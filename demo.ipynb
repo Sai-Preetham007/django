{
 "cells": [
  {
   "cell_type": "markdown",
   "id": "b16bffdc",
   "metadata": {},
   "source": [
    "# Python Basics ---> Day 1"
   ]
  },
  {
   "cell_type": "code",
   "execution_count": 19,
   "id": "e90c11f0",
   "metadata": {},
   "outputs": [],
   "source": [
    "# Welcome to Python Course"
   ]
  },
  {
   "cell_type": "code",
   "execution_count": 20,
   "id": "522804c8",
   "metadata": {},
   "outputs": [
    {
     "name": "stdout",
     "output_type": "stream",
     "text": [
      "4 <class 'float'>\n"
     ]
    }
   ],
   "source": [
    "x, y = 4, 3.0\n",
    "\n",
    "print(x, type(y))"
   ]
  },
  {
   "cell_type": "code",
   "execution_count": 21,
   "id": "4658a89a",
   "metadata": {},
   "outputs": [
    {
     "data": {
      "text/plain": [
       "str"
      ]
     },
     "execution_count": 21,
     "metadata": {},
     "output_type": "execute_result"
    }
   ],
   "source": [
    "x = \"Sai\"\n",
    "\n",
    "type(x)"
   ]
  },
  {
   "cell_type": "code",
   "execution_count": 22,
   "id": "3b5c56eb",
   "metadata": {},
   "outputs": [
    {
     "data": {
      "text/plain": [
       "2.5"
      ]
     },
     "execution_count": 22,
     "metadata": {},
     "output_type": "execute_result"
    }
   ],
   "source": [
    "x = 2.5\n",
    "\n",
    "x"
   ]
  },
  {
   "cell_type": "code",
   "execution_count": 23,
   "id": "f129fb71",
   "metadata": {},
   "outputs": [
    {
     "data": {
      "text/plain": [
       "float"
      ]
     },
     "execution_count": 23,
     "metadata": {},
     "output_type": "execute_result"
    }
   ],
   "source": [
    "type(x)"
   ]
  },
  {
   "cell_type": "code",
   "execution_count": 24,
   "id": "d73c28a1",
   "metadata": {},
   "outputs": [
    {
     "data": {
      "text/plain": [
       "['Sai', 'Deepthi', 'Kishore']"
      ]
     },
     "execution_count": 24,
     "metadata": {},
     "output_type": "execute_result"
    }
   ],
   "source": [
    "l = [\"Sai\", \"Deepthi\", \"Kishore\"]\n",
    "\n",
    "l"
   ]
  },
  {
   "cell_type": "code",
   "execution_count": 25,
   "id": "eefe7087",
   "metadata": {},
   "outputs": [
    {
     "data": {
      "text/plain": [
       "list"
      ]
     },
     "execution_count": 25,
     "metadata": {},
     "output_type": "execute_result"
    }
   ],
   "source": [
    "type(l)"
   ]
  },
  {
   "cell_type": "code",
   "execution_count": 26,
   "id": "d4584d64",
   "metadata": {},
   "outputs": [
    {
     "name": "stdout",
     "output_type": "stream",
     "text": [
      "23 <class 'int'>\n"
     ]
    }
   ],
   "source": [
    "age = 23\n",
    "\n",
    "print(age, type(age))"
   ]
  },
  {
   "cell_type": "code",
   "execution_count": 27,
   "id": "7834ec0c",
   "metadata": {},
   "outputs": [
    {
     "data": {
      "text/plain": [
       "'sai'"
      ]
     },
     "execution_count": 27,
     "metadata": {},
     "output_type": "execute_result"
    }
   ],
   "source": [
    "age1 = 23\n",
    "age2 = 54\n",
    "\n",
    "Student_Name = \"sai\"\n",
    "\n",
    "Student_Name"
   ]
  },
  {
   "cell_type": "code",
   "execution_count": 28,
   "id": "76ed86a6",
   "metadata": {},
   "outputs": [
    {
     "data": {
      "text/plain": [
       "['Sai', 3, 3.5, True]"
      ]
     },
     "execution_count": 28,
     "metadata": {},
     "output_type": "execute_result"
    }
   ],
   "source": [
    "l =[\"Sai\", 3, 3.5, True] \n",
    "\n",
    "l"
   ]
  },
  {
   "cell_type": "code",
   "execution_count": 29,
   "id": "c70ce3d9",
   "metadata": {},
   "outputs": [
    {
     "data": {
      "text/plain": [
       "list"
      ]
     },
     "execution_count": 29,
     "metadata": {},
     "output_type": "execute_result"
    }
   ],
   "source": [
    "type(l)"
   ]
  },
  {
   "cell_type": "code",
   "execution_count": 30,
   "id": "d82a976a",
   "metadata": {},
   "outputs": [
    {
     "name": "stdout",
     "output_type": "stream",
     "text": [
      "Sai : <class 'str'>\n",
      "3 : <class 'int'>\n",
      "3.5 : <class 'float'>\n",
      "True : <class 'bool'>\n"
     ]
    }
   ],
   "source": [
    "for i in l:\n",
    "    print(f\"{i} : {type(i)}\")"
   ]
  },
  {
   "cell_type": "code",
   "execution_count": 31,
   "id": "edf3f877",
   "metadata": {},
   "outputs": [
    {
     "name": "stdout",
     "output_type": "stream",
     "text": [
      "3.3333333333333335\n",
      "3\n"
     ]
    }
   ],
   "source": [
    "x = 10\n",
    "y = 3\n",
    "\n",
    "z = x/y\n",
    "print(z)\n",
    "print(int(z))"
   ]
  },
  {
   "cell_type": "code",
   "execution_count": 32,
   "id": "a6fee4ee",
   "metadata": {},
   "outputs": [
    {
     "data": {
      "text/plain": [
       "3"
      ]
     },
     "execution_count": 32,
     "metadata": {},
     "output_type": "execute_result"
    }
   ],
   "source": [
    "y"
   ]
  },
  {
   "cell_type": "code",
   "execution_count": 33,
   "id": "36b0c0e7",
   "metadata": {},
   "outputs": [],
   "source": [
    "y = float(y)"
   ]
  },
  {
   "cell_type": "code",
   "execution_count": 34,
   "id": "4c8b2944",
   "metadata": {},
   "outputs": [
    {
     "data": {
      "text/plain": [
       "3.0"
      ]
     },
     "execution_count": 34,
     "metadata": {},
     "output_type": "execute_result"
    }
   ],
   "source": [
    "y"
   ]
  },
  {
   "cell_type": "code",
   "execution_count": 35,
   "id": "e80353ff",
   "metadata": {},
   "outputs": [
    {
     "data": {
      "text/plain": [
       "['Sai', 'Deepthi']"
      ]
     },
     "execution_count": 35,
     "metadata": {},
     "output_type": "execute_result"
    }
   ],
   "source": [
    "l = [\"Sai\", \"Deepthi\"]\n",
    "\n",
    "l"
   ]
  },
  {
   "cell_type": "code",
   "execution_count": 36,
   "id": "f9bca6f8",
   "metadata": {},
   "outputs": [],
   "source": [
    "x = input()"
   ]
  },
  {
   "cell_type": "code",
   "execution_count": 37,
   "id": "662086a9",
   "metadata": {},
   "outputs": [
    {
     "data": {
      "text/plain": [
       "str"
      ]
     },
     "execution_count": 37,
     "metadata": {},
     "output_type": "execute_result"
    }
   ],
   "source": [
    "type(x)"
   ]
  },
  {
   "cell_type": "code",
   "execution_count": 38,
   "id": "acf5bf69",
   "metadata": {},
   "outputs": [
    {
     "name": "stdout",
     "output_type": "stream",
     "text": [
      " <class 'str'>\n"
     ]
    }
   ],
   "source": [
    "print(x, type(x))"
   ]
  },
  {
   "cell_type": "code",
   "execution_count": 39,
   "id": "d50ce1b8",
   "metadata": {},
   "outputs": [
    {
     "ename": "ValueError",
     "evalue": "invalid literal for int() with base 10: ''",
     "output_type": "error",
     "traceback": [
      "\u001b[31m---------------------------------------------------------------------------\u001b[39m",
      "\u001b[31mValueError\u001b[39m                                Traceback (most recent call last)",
      "\u001b[36mCell\u001b[39m\u001b[36m \u001b[39m\u001b[32mIn[39]\u001b[39m\u001b[32m, line 6\u001b[39m\n\u001b[32m      3\u001b[39m age = []\n\u001b[32m      4\u001b[39m n = \u001b[38;5;28minput\u001b[39m(\u001b[33m\"\u001b[39m\u001b[33mTotal no.of Students : \u001b[39m\u001b[33m\"\u001b[39m)\n\u001b[32m----> \u001b[39m\u001b[32m6\u001b[39m \u001b[38;5;28;01mfor\u001b[39;00m i \u001b[38;5;129;01min\u001b[39;00m \u001b[38;5;28mrange\u001b[39m(\u001b[38;5;28;43mint\u001b[39;49m\u001b[43m(\u001b[49m\u001b[43mn\u001b[49m\u001b[43m)\u001b[49m):              \u001b[38;5;66;03m# range ---> start, stop, increment\u001b[39;00m\n\u001b[32m      7\u001b[39m     std_age = \u001b[38;5;28minput\u001b[39m(\u001b[33mf\u001b[39m\u001b[33m\"\u001b[39m\u001b[33mEnter \u001b[39m\u001b[38;5;132;01m{\u001b[39;00mi+\u001b[32m1\u001b[39m\u001b[38;5;132;01m}\u001b[39;00m\u001b[33m student age : \u001b[39m\u001b[33m\"\u001b[39m)\n\u001b[32m      8\u001b[39m     age.append(std_age)\n",
      "\u001b[31mValueError\u001b[39m: invalid literal for int() with base 10: ''"
     ]
    }
   ],
   "source": [
    "# age = [25, 17, 35, 80, 5, 12]\n",
    "\n",
    "age = []\n",
    "n = input(\"Total no.of Students : \")\n",
    "\n",
    "for i in range(int(n)):              # range ---> start, stop, increment\n",
    "    std_age = input(f\"Enter {i+1} student age : \")\n",
    "    age.append(std_age)\n",
    "\n",
    "print(\"List of Students Age : \", age)"
   ]
  },
  {
   "cell_type": "code",
   "execution_count": null,
   "id": "6640abc0",
   "metadata": {},
   "outputs": [
    {
     "data": {
      "text/plain": [
       "True"
      ]
     },
     "execution_count": 22,
     "metadata": {},
     "output_type": "execute_result"
    }
   ],
   "source": [
    "r = True\n",
    "\n",
    "bool(r)"
   ]
  },
  {
   "cell_type": "code",
   "execution_count": null,
   "id": "b79c69ce",
   "metadata": {},
   "outputs": [
    {
     "name": "stdout",
     "output_type": "stream",
     "text": [
      "True\n"
     ]
    }
   ],
   "source": [
    "x = 15\n",
    "y = 5\n",
    "\n",
    "if x >= 12 and y <= 10:\n",
    "    print(True)\n",
    "else:\n",
    "    print(False)"
   ]
  },
  {
   "cell_type": "code",
   "execution_count": null,
   "id": "2bc0f4cb",
   "metadata": {},
   "outputs": [
    {
     "name": "stdout",
     "output_type": "stream",
     "text": [
      "1\n",
      "2\n",
      "3\n",
      "4\n"
     ]
    }
   ],
   "source": [
    "for i in range(1, 5):\n",
    "    print(i)"
   ]
  },
  {
   "cell_type": "code",
   "execution_count": null,
   "id": "c5abc0a1",
   "metadata": {},
   "outputs": [
    {
     "name": "stdout",
     "output_type": "stream",
     "text": [
      "10\n",
      "8\n",
      "6\n",
      "4\n",
      "2\n",
      "0\n"
     ]
    }
   ],
   "source": [
    "for i in range(10, -1, -2):\n",
    "    print(i)"
   ]
  },
  {
   "cell_type": "code",
   "execution_count": null,
   "id": "47158df9",
   "metadata": {},
   "outputs": [
    {
     "data": {
      "text/plain": [
       "['Sai', 'Deepthi', 'Kishore', 'apple', 'banana']"
      ]
     },
     "execution_count": 26,
     "metadata": {},
     "output_type": "execute_result"
    }
   ],
   "source": [
    "l = [\"Sai\", \"Deepthi\", \"Kishore\", \"apple\", \"banana\"]\n",
    "\n",
    "l"
   ]
  },
  {
   "cell_type": "code",
   "execution_count": null,
   "id": "6de99167",
   "metadata": {},
   "outputs": [
    {
     "name": "stdout",
     "output_type": "stream",
     "text": [
      "Sai\n",
      "Deepthi\n",
      "Kishore\n",
      "apple\n",
      "banana\n"
     ]
    }
   ],
   "source": [
    "for i in l:\n",
    "    print(i)"
   ]
  },
  {
   "cell_type": "code",
   "execution_count": null,
   "id": "d1a2d00c",
   "metadata": {},
   "outputs": [
    {
     "data": {
      "text/plain": [
       "'Kishore'"
      ]
     },
     "execution_count": 28,
     "metadata": {},
     "output_type": "execute_result"
    }
   ],
   "source": [
    "l[2]"
   ]
  },
  {
   "cell_type": "code",
   "execution_count": null,
   "id": "59fbe26a",
   "metadata": {},
   "outputs": [
    {
     "data": {
      "text/plain": [
       "5"
      ]
     },
     "execution_count": 29,
     "metadata": {},
     "output_type": "execute_result"
    }
   ],
   "source": [
    "len(l)"
   ]
  },
  {
   "cell_type": "code",
   "execution_count": null,
   "id": "bfd5ae20",
   "metadata": {},
   "outputs": [
    {
     "name": "stdout",
     "output_type": "stream",
     "text": [
      "0 Sai\n",
      "1 Deepthi\n",
      "2 Kishore\n",
      "3 apple\n",
      "4 banana\n"
     ]
    }
   ],
   "source": [
    "for i in range(len(l)):\n",
    "    print(i, l[i])"
   ]
  },
  {
   "cell_type": "code",
   "execution_count": null,
   "id": "cb6db656",
   "metadata": {},
   "outputs": [
    {
     "name": "stdout",
     "output_type": "stream",
     "text": [
      "2\n",
      "3\n",
      "4\n"
     ]
    }
   ],
   "source": [
    "x = len(l)\n",
    "\n",
    "for i in range(2, x):\n",
    "    print(i)"
   ]
  },
  {
   "cell_type": "code",
   "execution_count": null,
   "id": "e0b616c4",
   "metadata": {},
   "outputs": [
    {
     "name": "stdout",
     "output_type": "stream",
     "text": [
      "0\n",
      "1\n",
      "2\n",
      "3\n",
      "4\n",
      "6\n",
      "8\n",
      "9\n"
     ]
    }
   ],
   "source": [
    "for i in range(10):\n",
    "\n",
    "    if i == 7 or i == 5:\n",
    "        continue\n",
    "\n",
    "    elif i == 5:\n",
    "         break\n",
    "\n",
    "    print(i)"
   ]
  },
  {
   "cell_type": "code",
   "execution_count": null,
   "id": "5c93c089",
   "metadata": {},
   "outputs": [
    {
     "name": "stdout",
     "output_type": "stream",
     "text": [
      "5\n",
      "4\n",
      "3\n",
      "2\n",
      "1\n"
     ]
    }
   ],
   "source": [
    "i = 5\n",
    "\n",
    "while i > 0:\n",
    "    print(i)\n",
    "    i = i-1"
   ]
  },
  {
   "cell_type": "code",
   "execution_count": null,
   "id": "6e4b41a4",
   "metadata": {},
   "outputs": [],
   "source": [
    "del i"
   ]
  },
  {
   "cell_type": "markdown",
   "id": "5dfbdad4",
   "metadata": {},
   "source": [
    "# Data Structures ---> Day 2|"
   ]
  },
  {
   "cell_type": "markdown",
   "id": "bb758343",
   "metadata": {},
   "source": [
    "### Intializing String and finding Length"
   ]
  },
  {
   "cell_type": "code",
   "execution_count": null,
   "id": "22535d5e",
   "metadata": {},
   "outputs": [
    {
     "name": "stdout",
     "output_type": "stream",
     "text": [
      "String :  Deepthi\n",
      "Length of String :  7\n",
      "Last Word in a String :  i\n"
     ]
    }
   ],
   "source": [
    "s = \"Deepthi\"\n",
    "\n",
    "print(\"String : \", s)\n",
    "print(\"Length of String : \", len(s))\n",
    "print(\"Last Word in a String : \", s[len(s)-1])"
   ]
  },
  {
   "cell_type": "markdown",
   "id": "eab88426",
   "metadata": {},
   "source": [
    "### Iterate String using for loop"
   ]
  },
  {
   "cell_type": "code",
   "execution_count": null,
   "id": "48ff9784",
   "metadata": {},
   "outputs": [
    {
     "name": "stdout",
     "output_type": "stream",
     "text": [
      "D\n",
      "e\n",
      "e\n",
      "p\n",
      "t\n",
      "h\n",
      "i\n"
     ]
    }
   ],
   "source": [
    "for i in range(len(s)):\n",
    "    print(s[i])"
   ]
  },
  {
   "cell_type": "code",
   "execution_count": null,
   "id": "fbc1b6bc",
   "metadata": {},
   "outputs": [
    {
     "name": "stdout",
     "output_type": "stream",
     "text": [
      "D\n",
      "e\n",
      "e\n",
      "p\n",
      "t\n",
      "h\n",
      "i\n"
     ]
    }
   ],
   "source": [
    "for i in s:\n",
    "    print(i)"
   ]
  },
  {
   "cell_type": "markdown",
   "id": "852f621a",
   "metadata": {},
   "source": [
    "### Print in Reverese"
   ]
  },
  {
   "cell_type": "code",
   "execution_count": null,
   "id": "6a697492",
   "metadata": {},
   "outputs": [
    {
     "name": "stdout",
     "output_type": "stream",
     "text": [
      "i\n",
      "h\n",
      "t\n",
      "p\n",
      "e\n",
      "e\n",
      "D\n"
     ]
    }
   ],
   "source": [
    "for i in range(len(s)-1, -1, -1):\n",
    "    print(s[i])"
   ]
  },
  {
   "cell_type": "markdown",
   "id": "ec0f06bf",
   "metadata": {},
   "source": [
    "### Accessing Even numbered index values"
   ]
  },
  {
   "cell_type": "code",
   "execution_count": null,
   "id": "fdbec241",
   "metadata": {},
   "outputs": [
    {
     "name": "stdout",
     "output_type": "stream",
     "text": [
      "String :  Deepthi \n",
      "\n",
      "0 : D\n",
      "2 : e\n",
      "4 : t\n",
      "6 : i\n"
     ]
    }
   ],
   "source": [
    "print(\"String : \", s, \"\\n\")\n",
    "\n",
    "for i in range(0, len(s), 2):\n",
    "    print(i,\":\",s[i])"
   ]
  },
  {
   "cell_type": "markdown",
   "id": "1a2bf4ea",
   "metadata": {},
   "source": [
    "### String Methods"
   ]
  },
  {
   "cell_type": "code",
   "execution_count": null,
   "id": "286e0db6",
   "metadata": {},
   "outputs": [
    {
     "name": "stdout",
     "output_type": "stream",
     "text": [
      "Upper Case : SAI PREETHAM REDDY\n",
      "Lower Case : sai preetham reddy\n",
      "Upper Case : Sai Preetham Reddy\n",
      "Upper Case : Sai preetham reddy\n"
     ]
    }
   ],
   "source": [
    "full_name = \"Sai Preetham Reddy\"\n",
    "\n",
    "print(\"Upper Case :\", full_name.upper())\n",
    "print(\"Lower Case :\", full_name.lower())\n",
    "print(\"Upper Case :\", full_name.title())\n",
    "print(\"Upper Case :\", full_name.capitalize())"
   ]
  },
  {
   "cell_type": "code",
   "execution_count": null,
   "id": "d2d5f1ce",
   "metadata": {},
   "outputs": [
    {
     "data": {
      "text/plain": [
       "['Sai', 'Preetham', 'Reddy']"
      ]
     },
     "execution_count": 78,
     "metadata": {},
     "output_type": "execute_result"
    }
   ],
   "source": [
    "full_name.split()"
   ]
  },
  {
   "cell_type": "code",
   "execution_count": null,
   "id": "db0591c0",
   "metadata": {},
   "outputs": [
    {
     "data": {
      "text/plain": [
       "'Sai Preetham Reddy'"
      ]
     },
     "execution_count": 79,
     "metadata": {},
     "output_type": "execute_result"
    }
   ],
   "source": [
    "full_name"
   ]
  },
  {
   "cell_type": "code",
   "execution_count": null,
   "id": "8faf56ae",
   "metadata": {},
   "outputs": [
    {
     "name": "stdout",
     "output_type": "stream",
     "text": [
      "['Sai', 'Preetham', 'Reddy']\n"
     ]
    }
   ],
   "source": [
    "temp = full_name.split()\n",
    "\n",
    "print(temp)"
   ]
  },
  {
   "cell_type": "code",
   "execution_count": null,
   "id": "017001a2",
   "metadata": {},
   "outputs": [
    {
     "data": {
      "text/plain": [
       "'Sai'"
      ]
     },
     "execution_count": 82,
     "metadata": {},
     "output_type": "execute_result"
    }
   ],
   "source": [
    "full_name.split()[0]"
   ]
  },
  {
   "cell_type": "code",
   "execution_count": null,
   "id": "bdbcba04",
   "metadata": {},
   "outputs": [],
   "source": [
    "first_name = temp[0]\n",
    "middle_name = temp[1]\n",
    "last_name = temp[2]"
   ]
  },
  {
   "cell_type": "code",
   "execution_count": null,
   "id": "627dec8f",
   "metadata": {},
   "outputs": [
    {
     "name": "stdout",
     "output_type": "stream",
     "text": [
      "First Name : Sai\n"
     ]
    }
   ],
   "source": [
    "print(\"First Name :\", first_name)"
   ]
  },
  {
   "cell_type": "code",
   "execution_count": null,
   "id": "db5357ac",
   "metadata": {},
   "outputs": [
    {
     "data": {
      "text/plain": [
       "'Sai Preetham'"
      ]
     },
     "execution_count": 94,
     "metadata": {},
     "output_type": "execute_result"
    }
   ],
   "source": [
    "s = \"   Sai Preetham    \"\n",
    "\n",
    "s.strip()  # strip ---> removes the first and last spaces in a string."
   ]
  },
  {
   "cell_type": "code",
   "execution_count": null,
   "id": "b0ed1621",
   "metadata": {},
   "outputs": [
    {
     "data": {
      "text/plain": [
       "'   Sai Preetham    '"
      ]
     },
     "execution_count": 95,
     "metadata": {},
     "output_type": "execute_result"
    }
   ],
   "source": [
    "s"
   ]
  },
  {
   "cell_type": "code",
   "execution_count": null,
   "id": "163a5bd2",
   "metadata": {},
   "outputs": [
    {
     "data": {
      "text/plain": [
       "True"
      ]
     },
     "execution_count": 97,
     "metadata": {},
     "output_type": "execute_result"
    }
   ],
   "source": [
    "s = \"Sai\"\n",
    "\n",
    "s.isalpha()"
   ]
  },
  {
   "cell_type": "code",
   "execution_count": null,
   "id": "c838a8d3",
   "metadata": {},
   "outputs": [
    {
     "data": {
      "text/plain": [
       "False"
      ]
     },
     "execution_count": 98,
     "metadata": {},
     "output_type": "execute_result"
    }
   ],
   "source": [
    "s = \"Sai Preetham\"\n",
    "\n",
    "s.isalpha()         # space is not an alphabet."
   ]
  },
  {
   "cell_type": "code",
   "execution_count": null,
   "id": "cc11057e",
   "metadata": {},
   "outputs": [
    {
     "data": {
      "text/plain": [
       "True"
      ]
     },
     "execution_count": 101,
     "metadata": {},
     "output_type": "execute_result"
    }
   ],
   "source": [
    "user_id = \"Sai007\"\n",
    "\n",
    "user_id.isalnum()"
   ]
  },
  {
   "cell_type": "code",
   "execution_count": null,
   "id": "4a1f6980",
   "metadata": {},
   "outputs": [
    {
     "data": {
      "text/plain": [
       "['sai', 'deepthi', 'kishore']"
      ]
     },
     "execution_count": 8,
     "metadata": {},
     "output_type": "execute_result"
    }
   ],
   "source": [
    "std_names = []\n",
    "n = int(input(\"Enter total no.of students : \"))\n",
    "\n",
    "for i in range(n):\n",
    "    std_names.append(input(\"Enter the name of the student : \"))\n",
    "\n",
    "std_names"
   ]
  },
  {
   "cell_type": "markdown",
   "id": "372d6e3a",
   "metadata": {},
   "source": [
    "# Day 3"
   ]
  },
  {
   "cell_type": "markdown",
   "id": "b9c33e86",
   "metadata": {},
   "source": [
    "### List Comprehension"
   ]
  },
  {
   "cell_type": "code",
   "execution_count": null,
   "id": "ea9020c3",
   "metadata": {},
   "outputs": [
    {
     "data": {
      "text/plain": [
       "[0, 1, 2, 3, 4, 5, 6, 7, 8, 9]"
      ]
     },
     "execution_count": 9,
     "metadata": {},
     "output_type": "execute_result"
    }
   ],
   "source": [
    "whole_numbers = [i for i in range(10)]\n",
    "\n",
    "whole_numbers"
   ]
  },
  {
   "cell_type": "code",
   "execution_count": null,
   "id": "867b666a",
   "metadata": {},
   "outputs": [
    {
     "data": {
      "text/plain": [
       "[1, 2, 3, 4, 5, 6, 7, 8, 9, 10]"
      ]
     },
     "execution_count": 10,
     "metadata": {},
     "output_type": "execute_result"
    }
   ],
   "source": [
    "natural_numbers = [i+1 for i in range(10)]\n",
    "\n",
    "natural_numbers"
   ]
  },
  {
   "cell_type": "code",
   "execution_count": null,
   "id": "c82d0435",
   "metadata": {},
   "outputs": [
    {
     "data": {
      "text/plain": [
       "[2, 4, 6, 8]"
      ]
     },
     "execution_count": 14,
     "metadata": {},
     "output_type": "execute_result"
    }
   ],
   "source": [
    "even_natural_numbers = [i for i in range(2,10,2)]\n",
    "\n",
    "even_natural_numbers"
   ]
  },
  {
   "cell_type": "code",
   "execution_count": null,
   "id": "54689389",
   "metadata": {},
   "outputs": [
    {
     "data": {
      "text/plain": [
       "[1, 3, 5, 7, 9]"
      ]
     },
     "execution_count": 20,
     "metadata": {},
     "output_type": "execute_result"
    }
   ],
   "source": [
    "odd_natural_numbers = [i for i in range(10) if i%2 != 0]\n",
    "\n",
    "odd_natural_numbers"
   ]
  },
  {
   "cell_type": "code",
   "execution_count": null,
   "id": "d85767a7",
   "metadata": {},
   "outputs": [
    {
     "data": {
      "text/plain": [
       "[0, 1, 2, 3, 4, 1, 2, 3, 4, 5, 2, 3, 4, 5, 6]"
      ]
     },
     "execution_count": 88,
     "metadata": {},
     "output_type": "execute_result"
    }
   ],
   "source": [
    "[i+j for i in range(3) for j in range(5)]"
   ]
  },
  {
   "cell_type": "code",
   "execution_count": null,
   "id": "25b2bcff",
   "metadata": {},
   "outputs": [
    {
     "data": {
      "text/plain": [
       "[0, 1, 2, 1, 2, 3, 2, 3, 4, 3, 4, 5, 4, 5, 6]"
      ]
     },
     "execution_count": 89,
     "metadata": {},
     "output_type": "execute_result"
    }
   ],
   "source": [
    "[i+j for i in range(5) for j in range(3)]"
   ]
  },
  {
   "cell_type": "code",
   "execution_count": null,
   "id": "73c7cebd",
   "metadata": {},
   "outputs": [
    {
     "name": "stdout",
     "output_type": "stream",
     "text": [
      "[0, 2, 4, 6, 8]\n"
     ]
    }
   ],
   "source": [
    "l = []\n",
    "\n",
    "for i in range(10):\n",
    "    if i%2 == 0:\n",
    "        l.append(i)\n",
    "\n",
    "print(l)"
   ]
  },
  {
   "cell_type": "code",
   "execution_count": null,
   "id": "737d5a3c",
   "metadata": {},
   "outputs": [
    {
     "data": {
      "text/plain": [
       "['sai', 'krishna', 'deepthi', 'kishore', 'subhashini']"
      ]
     },
     "execution_count": 24,
     "metadata": {},
     "output_type": "execute_result"
    }
   ],
   "source": [
    "std_name = [input(f\"Enter {i+1} student name : \") for i in range(5)]\n",
    "\n",
    "std_name"
   ]
  },
  {
   "cell_type": "code",
   "execution_count": null,
   "id": "476eeb0b",
   "metadata": {},
   "outputs": [],
   "source": [
    "std_name = ['sai', 'krishna','sai', 'deepthi', 'sai', 'deepthi']"
   ]
  },
  {
   "cell_type": "code",
   "execution_count": null,
   "id": "43522eb2",
   "metadata": {},
   "outputs": [
    {
     "name": "stdout",
     "output_type": "stream",
     "text": [
      "{0: 'sai'}\n",
      "{1: 'krishna'}\n",
      "{2: 'sai'}\n",
      "{3: 'deepthi'}\n",
      "{4: 'sai'}\n",
      "{5: 'deepthi'}\n"
     ]
    }
   ],
   "source": [
    "for k,v in enumerate(std_name):\n",
    "    print({k:v})"
   ]
  },
  {
   "cell_type": "code",
   "execution_count": null,
   "id": "0f606c16",
   "metadata": {},
   "outputs": [
    {
     "data": {
      "text/plain": [
       "[{'sai': 3}, {'deepthi': 2}, {'krishna': 1}]"
      ]
     },
     "execution_count": 79,
     "metadata": {},
     "output_type": "execute_result"
    }
   ],
   "source": [
    "std_name = ['sai', 'krishna','sai', 'deepthi', 'sai', 'deepthi']\n",
    "\n",
    "std_count = [{i : std_name.count(i)} for i in set(std_name)]\n",
    "std_count"
   ]
  },
  {
   "cell_type": "code",
   "execution_count": null,
   "id": "b78651e6",
   "metadata": {},
   "outputs": [
    {
     "data": {
      "text/plain": [
       "['sai', 'krishna', 'deepthi', 'kishore', 'subhashini']"
      ]
     },
     "execution_count": 29,
     "metadata": {},
     "output_type": "execute_result"
    }
   ],
   "source": [
    "std_name = ['sai', 'krishna', 'deepthi', 'kishore', 'subhashini']\n",
    "\n",
    "std_name"
   ]
  },
  {
   "cell_type": "code",
   "execution_count": null,
   "id": "c4b48244",
   "metadata": {},
   "outputs": [
    {
     "data": {
      "text/plain": [
       "'krishna'"
      ]
     },
     "execution_count": 30,
     "metadata": {},
     "output_type": "execute_result"
    }
   ],
   "source": [
    "std_name[1]"
   ]
  },
  {
   "cell_type": "markdown",
   "id": "e5ad9d03",
   "metadata": {},
   "source": [
    "### Slicing"
   ]
  },
  {
   "cell_type": "code",
   "execution_count": null,
   "id": "0101c8ea",
   "metadata": {},
   "outputs": [
    {
     "data": {
      "text/plain": [
       "['deepthi', 'kishore']"
      ]
     },
     "execution_count": 31,
     "metadata": {},
     "output_type": "execute_result"
    }
   ],
   "source": [
    "std_name[2:4]"
   ]
  },
  {
   "cell_type": "code",
   "execution_count": null,
   "id": "860d131a",
   "metadata": {},
   "outputs": [
    {
     "data": {
      "text/plain": [
       "['sai', 'krishna', 'deepthi']"
      ]
     },
     "execution_count": 32,
     "metadata": {},
     "output_type": "execute_result"
    }
   ],
   "source": [
    "std_name[0:3]"
   ]
  },
  {
   "cell_type": "code",
   "execution_count": null,
   "id": "b73f155e",
   "metadata": {},
   "outputs": [
    {
     "data": {
      "text/plain": [
       "['sai', 'krishna', 'deepthi']"
      ]
     },
     "execution_count": 33,
     "metadata": {},
     "output_type": "execute_result"
    }
   ],
   "source": [
    "std_name[:3]"
   ]
  },
  {
   "cell_type": "code",
   "execution_count": null,
   "id": "4d52b3c3",
   "metadata": {},
   "outputs": [
    {
     "data": {
      "text/plain": [
       "['deepthi', 'kishore', 'subhashini']"
      ]
     },
     "execution_count": 34,
     "metadata": {},
     "output_type": "execute_result"
    }
   ],
   "source": [
    "std_name[2:]"
   ]
  },
  {
   "cell_type": "code",
   "execution_count": null,
   "id": "e06e3d2a",
   "metadata": {},
   "outputs": [
    {
     "data": {
      "text/plain": [
       "['sai', 'krishna', 'deepthi', 'kishore', 'subhashini']"
      ]
     },
     "execution_count": 35,
     "metadata": {},
     "output_type": "execute_result"
    }
   ],
   "source": [
    "std_name"
   ]
  },
  {
   "cell_type": "code",
   "execution_count": null,
   "id": "7470c233",
   "metadata": {},
   "outputs": [
    {
     "data": {
      "text/plain": [
       "['sai', 'krishna', 'deepthi', 'kishore', 'subhashini']"
      ]
     },
     "execution_count": 36,
     "metadata": {},
     "output_type": "execute_result"
    }
   ],
   "source": [
    "std_name[:]"
   ]
  },
  {
   "cell_type": "markdown",
   "id": "1462a992",
   "metadata": {},
   "source": [
    "### methods"
   ]
  },
  {
   "cell_type": "code",
   "execution_count": null,
   "id": "b328274a",
   "metadata": {},
   "outputs": [
    {
     "data": {
      "text/plain": [
       "<function list.pop(index=-1, /)>"
      ]
     },
     "execution_count": 37,
     "metadata": {},
     "output_type": "execute_result"
    }
   ],
   "source": [
    "std_name.pop"
   ]
  },
  {
   "cell_type": "code",
   "execution_count": null,
   "id": "b5f0c801",
   "metadata": {},
   "outputs": [
    {
     "data": {
      "text/plain": [
       "'subhashini'"
      ]
     },
     "execution_count": 38,
     "metadata": {},
     "output_type": "execute_result"
    }
   ],
   "source": [
    "std_name.pop()"
   ]
  },
  {
   "cell_type": "code",
   "execution_count": null,
   "id": "0c49d796",
   "metadata": {},
   "outputs": [
    {
     "data": {
      "text/plain": [
       "'kishore'"
      ]
     },
     "execution_count": 39,
     "metadata": {},
     "output_type": "execute_result"
    }
   ],
   "source": [
    "std_name.pop()"
   ]
  },
  {
   "cell_type": "code",
   "execution_count": null,
   "id": "a0009134",
   "metadata": {},
   "outputs": [
    {
     "data": {
      "text/plain": [
       "['sai', 'krishna', 'deepthi']"
      ]
     },
     "execution_count": 42,
     "metadata": {},
     "output_type": "execute_result"
    }
   ],
   "source": [
    "std_name"
   ]
  },
  {
   "cell_type": "code",
   "execution_count": null,
   "id": "0370f02b",
   "metadata": {},
   "outputs": [
    {
     "data": {
      "text/plain": [
       "<function list.count(value, /)>"
      ]
     },
     "execution_count": 43,
     "metadata": {},
     "output_type": "execute_result"
    }
   ],
   "source": [
    "std_name.count"
   ]
  },
  {
   "cell_type": "code",
   "execution_count": null,
   "id": "1b758407",
   "metadata": {},
   "outputs": [
    {
     "data": {
      "text/plain": [
       "1"
      ]
     },
     "execution_count": 46,
     "metadata": {},
     "output_type": "execute_result"
    }
   ],
   "source": [
    "std_name.count(\"sai\")"
   ]
  },
  {
   "cell_type": "code",
   "execution_count": null,
   "id": "0cb431af",
   "metadata": {},
   "outputs": [
    {
     "data": {
      "text/plain": [
       "0"
      ]
     },
     "execution_count": 47,
     "metadata": {},
     "output_type": "execute_result"
    }
   ],
   "source": [
    "std_name.count(\"kishore\")"
   ]
  },
  {
   "cell_type": "code",
   "execution_count": null,
   "id": "c5fa5dc7",
   "metadata": {},
   "outputs": [
    {
     "data": {
      "text/plain": [
       "<function list.clear()>"
      ]
     },
     "execution_count": 48,
     "metadata": {},
     "output_type": "execute_result"
    }
   ],
   "source": [
    "std_name.clear"
   ]
  },
  {
   "cell_type": "code",
   "execution_count": null,
   "id": "9a10f8d3",
   "metadata": {},
   "outputs": [],
   "source": [
    "std_name.clear()"
   ]
  },
  {
   "cell_type": "code",
   "execution_count": null,
   "id": "0f663209",
   "metadata": {},
   "outputs": [
    {
     "data": {
      "text/plain": [
       "[]"
      ]
     },
     "execution_count": 50,
     "metadata": {},
     "output_type": "execute_result"
    }
   ],
   "source": [
    "std_name"
   ]
  },
  {
   "cell_type": "code",
   "execution_count": null,
   "id": "576d0e1b",
   "metadata": {},
   "outputs": [
    {
     "data": {
      "text/plain": [
       "['sai', 'krishna', 'deepthi', 'kishore', 'subhashini']"
      ]
     },
     "execution_count": 79,
     "metadata": {},
     "output_type": "execute_result"
    }
   ],
   "source": [
    "names = ['sai', 'krishna', 'deepthi', 'kishore', 'subhashini']\n",
    "\n",
    "names"
   ]
  },
  {
   "cell_type": "code",
   "execution_count": null,
   "id": "6cd99102",
   "metadata": {},
   "outputs": [
    {
     "data": {
      "text/plain": [
       "['sai', 'krishna', 'venkateswara', 'deepthi', 'kishore', 'subhashini']"
      ]
     },
     "execution_count": 80,
     "metadata": {},
     "output_type": "execute_result"
    }
   ],
   "source": [
    "names.insert(2, \"venkateswara\")\n",
    "\n",
    "names"
   ]
  },
  {
   "cell_type": "code",
   "execution_count": null,
   "id": "c89971e8",
   "metadata": {},
   "outputs": [
    {
     "data": {
      "text/plain": [
       "<function list.sort(*, key=None, reverse=False)>"
      ]
     },
     "execution_count": 81,
     "metadata": {},
     "output_type": "execute_result"
    }
   ],
   "source": [
    "names.sort"
   ]
  },
  {
   "cell_type": "code",
   "execution_count": null,
   "id": "0e479972",
   "metadata": {},
   "outputs": [
    {
     "data": {
      "text/plain": [
       "['deepthi', 'kishore', 'krishna', 'sai', 'subhashini', 'venkateswara']"
      ]
     },
     "execution_count": 82,
     "metadata": {},
     "output_type": "execute_result"
    }
   ],
   "source": [
    "names.sort()      # Ascending order\n",
    "\n",
    "names"
   ]
  },
  {
   "cell_type": "code",
   "execution_count": null,
   "id": "eeb35eab",
   "metadata": {},
   "outputs": [
    {
     "data": {
      "text/plain": [
       "['venkateswara', 'subhashini', 'sai', 'krishna', 'kishore', 'deepthi']"
      ]
     },
     "execution_count": 83,
     "metadata": {},
     "output_type": "execute_result"
    }
   ],
   "source": [
    "names.sort(reverse=True)      # descending order\n",
    "\n",
    "names"
   ]
  },
  {
   "cell_type": "markdown",
   "id": "887f2bfd",
   "metadata": {},
   "source": [
    "### Append vs Extend"
   ]
  },
  {
   "cell_type": "code",
   "execution_count": null,
   "id": "f8057494",
   "metadata": {},
   "outputs": [],
   "source": [
    "names_1 = [\"sai\", \"preetham\", \"deepthi\"]\n",
    "names_2 = [\"krishna\", \"kishore\"]\n",
    "\n",
    "names_1.append(names_2)"
   ]
  },
  {
   "cell_type": "code",
   "execution_count": null,
   "id": "11fe9876",
   "metadata": {},
   "outputs": [
    {
     "name": "stdout",
     "output_type": "stream",
     "text": [
      "names_1 :  ['sai', 'preetham', 'deepthi', ['krishna', 'kishore']]\n",
      "Length :  4\n"
     ]
    }
   ],
   "source": [
    "print(\"names_1 : \", names_1)\n",
    "print(\"Length : \", len(names_1))"
   ]
  },
  {
   "cell_type": "code",
   "execution_count": null,
   "id": "de2952e1",
   "metadata": {},
   "outputs": [],
   "source": [
    "names_1 = [\"sai\", \"preetham\", \"deepthi\"]\n",
    "names_2 = [\"krishna\", \"kishore\"]\n",
    "\n",
    "names_1.extend(names_2)"
   ]
  },
  {
   "cell_type": "code",
   "execution_count": null,
   "id": "a69c84f9",
   "metadata": {},
   "outputs": [
    {
     "name": "stdout",
     "output_type": "stream",
     "text": [
      "names_1 :  ['sai', 'preetham', 'deepthi', 'krishna', 'kishore']\n",
      "Length :  5\n"
     ]
    }
   ],
   "source": [
    "print(\"names_1 : \", names_1)\n",
    "print(\"Length : \", len(names_1))"
   ]
  },
  {
   "cell_type": "code",
   "execution_count": null,
   "id": "cbcf9c72",
   "metadata": {},
   "outputs": [],
   "source": [
    "### List Concatinate"
   ]
  },
  {
   "cell_type": "code",
   "execution_count": null,
   "id": "63e6c8ae",
   "metadata": {},
   "outputs": [
    {
     "data": {
      "text/plain": [
       "['sai', 'preetham', 'deepthi', 'krishna', 'kishore']"
      ]
     },
     "execution_count": 135,
     "metadata": {},
     "output_type": "execute_result"
    }
   ],
   "source": [
    "names_1 = [\"sai\", \"preetham\", \"deepthi\"]\n",
    "names_2 = [\"krishna\", \"kishore\"]\n",
    "\n",
    "names_1 + names_2      # works similar to extend."
   ]
  },
  {
   "cell_type": "code",
   "execution_count": null,
   "id": "3cbda335",
   "metadata": {},
   "outputs": [
    {
     "name": "stdout",
     "output_type": "stream",
     "text": [
      "x : [1, 2, 3, 4, 5]\n",
      "y : [2, 4, 6, 8, 10]\n"
     ]
    }
   ],
   "source": [
    "x = [1,2,3,4,5]\n",
    "\n",
    "y = [i*2 for i in x]\n",
    "\n",
    "print(\"x :\", x)\n",
    "print(\"y :\", y)"
   ]
  },
  {
   "cell_type": "markdown",
   "id": "6ae1aa85",
   "metadata": {},
   "source": [
    "### Nested List"
   ]
  },
  {
   "cell_type": "code",
   "execution_count": null,
   "id": "1be80819",
   "metadata": {},
   "outputs": [
    {
     "data": {
      "text/plain": [
       "['sai', 'preetham', ['deepthi', 'kishore', 'krishna']]"
      ]
     },
     "execution_count": 121,
     "metadata": {},
     "output_type": "execute_result"
    }
   ],
   "source": [
    "nested_list = [\"sai\", \"preetham\", [\"deepthi\", \"kishore\", \"krishna\"]]\n",
    "\n",
    "nested_list"
   ]
  },
  {
   "cell_type": "code",
   "execution_count": null,
   "id": "8c55d2ba",
   "metadata": {},
   "outputs": [
    {
     "data": {
      "text/plain": [
       "['deepthi', 'kishore', 'krishna']"
      ]
     },
     "execution_count": 122,
     "metadata": {},
     "output_type": "execute_result"
    }
   ],
   "source": [
    "nested_list[-1]"
   ]
  },
  {
   "cell_type": "code",
   "execution_count": null,
   "id": "589a8ed7",
   "metadata": {},
   "outputs": [
    {
     "data": {
      "text/plain": [
       "'kishore'"
      ]
     },
     "execution_count": 123,
     "metadata": {},
     "output_type": "execute_result"
    }
   ],
   "source": [
    "nested_list[-1][1]"
   ]
  },
  {
   "cell_type": "code",
   "execution_count": null,
   "id": "ba8724a9",
   "metadata": {},
   "outputs": [
    {
     "data": {
      "text/plain": [
       "[['sai', 'preetham'],\n",
       " ['kishore', 'deepthi'],\n",
       " ['subhashini', 'krishna', 'venkateswara']]"
      ]
     },
     "execution_count": 124,
     "metadata": {},
     "output_type": "execute_result"
    }
   ],
   "source": [
    "adv_nested_list = [[\"sai\", \"preetham\"], [\"kishore\", \"deepthi\"], [\"subhashini\", \"krishna\", \"venkateswara\"]]\n",
    "\n",
    "adv_nested_list"
   ]
  },
  {
   "cell_type": "code",
   "execution_count": null,
   "id": "a464876d",
   "metadata": {},
   "outputs": [
    {
     "data": {
      "text/plain": [
       "'deepthi'"
      ]
     },
     "execution_count": 125,
     "metadata": {},
     "output_type": "execute_result"
    }
   ],
   "source": [
    "adv_nested_list[1][1]"
   ]
  },
  {
   "cell_type": "code",
   "execution_count": null,
   "id": "62f165e9",
   "metadata": {},
   "outputs": [
    {
     "data": {
      "text/plain": [
       "[[['sai', 'preetham'], ['kishore', 'deepthi']],\n",
       " ['subhashini', 'venkateswara', 'krishna']]"
      ]
     },
     "execution_count": 1,
     "metadata": {},
     "output_type": "execute_result"
    }
   ],
   "source": [
    "adv_3d_nested_list = [[[\"sai\", \"preetham\"], [\"kishore\", \"deepthi\"]], [\"subhashini\", \"venkateswara\", \"krishna\"]]\n",
    "\n",
    "adv_3d_nested_list"
   ]
  },
  {
   "cell_type": "code",
   "execution_count": null,
   "id": "74eba499",
   "metadata": {},
   "outputs": [
    {
     "data": {
      "text/plain": [
       "'deepthi'"
      ]
     },
     "execution_count": 134,
     "metadata": {},
     "output_type": "execute_result"
    }
   ],
   "source": [
    "adv_3d_nested_list[0][1][1]"
   ]
  },
  {
   "cell_type": "markdown",
   "id": "d93659ac",
   "metadata": {},
   "source": [
    "### Looping through a nested_list"
   ]
  },
  {
   "cell_type": "code",
   "execution_count": null,
   "id": "576f1383",
   "metadata": {},
   "outputs": [
    {
     "data": {
      "text/plain": [
       "[['sai', 'preetham'],\n",
       " ['kishore', 'deepthi'],\n",
       " ['subhashini', 'krishna', 'venkateswara']]"
      ]
     },
     "execution_count": 90,
     "metadata": {},
     "output_type": "execute_result"
    }
   ],
   "source": [
    "adv_nested_list = [[\"sai\", \"preetham\"], [\"kishore\", \"deepthi\"], [\"subhashini\", \"krishna\", \"venkateswara\"]]\n",
    "\n",
    "adv_nested_list"
   ]
  },
  {
   "cell_type": "code",
   "execution_count": null,
   "id": "9b7ccab5",
   "metadata": {},
   "outputs": [
    {
     "name": "stdout",
     "output_type": "stream",
     "text": [
      "['sai', 'preetham']\n",
      "['kishore', 'deepthi']\n",
      "['subhashini', 'krishna', 'venkateswara']\n"
     ]
    }
   ],
   "source": [
    "for i in adv_nested_list:\n",
    "    print(i)"
   ]
  },
  {
   "cell_type": "code",
   "execution_count": null,
   "id": "569f2843",
   "metadata": {},
   "outputs": [
    {
     "name": "stdout",
     "output_type": "stream",
     "text": [
      "sai\n",
      "preetham\n",
      "\n",
      "kishore\n",
      "deepthi\n",
      "\n",
      "subhashini\n",
      "krishna\n",
      "venkateswara\n",
      "\n"
     ]
    }
   ],
   "source": [
    "for i in adv_nested_list:\n",
    "    for j in i:\n",
    "        print(j)\n",
    "    print()"
   ]
  },
  {
   "cell_type": "code",
   "execution_count": null,
   "id": "36efb688",
   "metadata": {},
   "outputs": [
    {
     "name": "stdout",
     "output_type": "stream",
     "text": [
      "original_data : ['sai', 1, True, 4.5]\n",
      "copy_data : ['sai', 1, True, 4.5]\n"
     ]
    }
   ],
   "source": [
    "original_data = [\"sai\", 1, True, 4.5]\n",
    "copy_data = original_data\n",
    "\n",
    "print(\"original_data :\", original_data)\n",
    "print(\"copy_data :\", copy_data)"
   ]
  },
  {
   "cell_type": "code",
   "execution_count": null,
   "id": "1afec520",
   "metadata": {},
   "outputs": [
    {
     "name": "stdout",
     "output_type": "stream",
     "text": [
      "copy_data : ['sai', 1, True]\n",
      "original_data : ['sai', 1, True]\n"
     ]
    }
   ],
   "source": [
    "copy_data.pop()\n",
    "\n",
    "print(\"copy_data :\", copy_data)\n",
    "print(\"original_data :\", original_data)"
   ]
  },
  {
   "cell_type": "code",
   "execution_count": null,
   "id": "eccb7471",
   "metadata": {},
   "outputs": [
    {
     "name": "stdout",
     "output_type": "stream",
     "text": [
      "original_data : ['sai', 1, True, 4.5]\n",
      "copy_data : ['sai', 1, True, 4.5]\n"
     ]
    }
   ],
   "source": [
    "original_data = [\"sai\", 1, True, 4.5]\n",
    "copy_data = original_data.copy()\n",
    "\n",
    "print(\"original_data :\", original_data)\n",
    "print(\"copy_data :\", copy_data)"
   ]
  },
  {
   "cell_type": "code",
   "execution_count": null,
   "id": "45f8ec6e",
   "metadata": {},
   "outputs": [
    {
     "name": "stdout",
     "output_type": "stream",
     "text": [
      "copy_data : ['sai', 1, True]\n",
      "original_data : ['sai', 1, True, 4.5]\n"
     ]
    }
   ],
   "source": [
    "copy_data.pop()\n",
    "\n",
    "print(\"copy_data :\", copy_data)\n",
    "print(\"original_data :\", original_data)"
   ]
  },
  {
   "cell_type": "code",
   "execution_count": null,
   "id": "c0dbf923",
   "metadata": {},
   "outputs": [
    {
     "name": "stdout",
     "output_type": "stream",
     "text": [
      "0 Sai\n",
      "1 Deepthi\n",
      "2 Kishore\n",
      "3 Krishna\n",
      "4 Subhashini\n"
     ]
    }
   ],
   "source": [
    "students = [\"Sai\", \"Deepthi\", \"Kishore\", \"Krishna\", \"Subhashini\"]\n",
    "\n",
    "for i in range(len(students)):\n",
    "    print(i, students[i])"
   ]
  },
  {
   "cell_type": "markdown",
   "id": "86cc981c",
   "metadata": {},
   "source": [
    "### Enumerate"
   ]
  },
  {
   "cell_type": "code",
   "execution_count": null,
   "id": "a9f158f6",
   "metadata": {},
   "outputs": [
    {
     "name": "stdout",
     "output_type": "stream",
     "text": [
      "(0, 'Sai')\n",
      "(1, 'Deepthi')\n",
      "(2, 'Kishore')\n",
      "(3, 'Krishna')\n",
      "(4, 'Subhashini')\n"
     ]
    }
   ],
   "source": [
    "for i in enumerate(students):\n",
    "    print(i)"
   ]
  },
  {
   "cell_type": "code",
   "execution_count": null,
   "id": "1629ff20",
   "metadata": {},
   "outputs": [
    {
     "name": "stdout",
     "output_type": "stream",
     "text": [
      "index_value : 0\n",
      "index_value : 1\n",
      "index_value : 2\n",
      "index_value : 3\n",
      "index_value : 4\n"
     ]
    }
   ],
   "source": [
    "for i,j in enumerate(students):\n",
    "    print(\"index_value :\", i)"
   ]
  },
  {
   "cell_type": "code",
   "execution_count": null,
   "id": "5859937d",
   "metadata": {},
   "outputs": [
    {
     "name": "stdout",
     "output_type": "stream",
     "text": [
      "element_0 : Sai\n",
      "element_1 : Deepthi\n",
      "element_2 : Kishore\n",
      "element_3 : Krishna\n",
      "element_4 : Subhashini\n"
     ]
    }
   ],
   "source": [
    "for i,j in enumerate(students):\n",
    "    print(f\"element_{i} : {j}\")"
   ]
  },
  {
   "cell_type": "markdown",
   "id": "2b0fb93c",
   "metadata": {},
   "source": [
    "### zip"
   ]
  },
  {
   "cell_type": "code",
   "execution_count": null,
   "id": "a0288bc1",
   "metadata": {},
   "outputs": [
    {
     "name": "stdout",
     "output_type": "stream",
     "text": [
      "(1, 'sai')\n",
      "(2, 'deepthi')\n",
      "(3, 'kishore')\n"
     ]
    }
   ],
   "source": [
    "x = [1, 2, 3]\n",
    "y = [\"sai\", \"deepthi\", \"kishore\"]\n",
    "\n",
    "for i in zip(x,y):\n",
    "    print(i)"
   ]
  },
  {
   "cell_type": "code",
   "execution_count": null,
   "id": "d4e48f45",
   "metadata": {},
   "outputs": [
    {
     "name": "stdout",
     "output_type": "stream",
     "text": [
      "(1, 'sai', 1.1)\n",
      "(2, 'deepthi', 2.2)\n",
      "(3, 'kishore', 3.3)\n"
     ]
    }
   ],
   "source": [
    "x = [1, 2, 3]\n",
    "y = [\"sai\", \"deepthi\", \"kishore\", \"krishna\", \"subhashini\"]\n",
    "z = [1.1, 2.2, 3.3, 4.4]\n",
    "\n",
    "for i in zip(x,y,z):\n",
    "    print(i)"
   ]
  },
  {
   "cell_type": "code",
   "execution_count": null,
   "id": "5a4bf14b",
   "metadata": {},
   "outputs": [
    {
     "data": {
      "text/plain": [
       "['SAI', 'DEEPTHI', 'KISHORE', 'KRISHNA', 'SUBHASHINI']"
      ]
     },
     "execution_count": 2,
     "metadata": {},
     "output_type": "execute_result"
    }
   ],
   "source": [
    "students = [\"Sai\", \"Deepthi\", \"Kishore\", \"Krishna\", \"Subhashini\"]\n",
    "\n",
    "temp = [i.upper() for i in students]\n",
    "temp"
   ]
  },
  {
   "cell_type": "markdown",
   "id": "e50229d2",
   "metadata": {},
   "source": [
    "### Day-5\n",
    "* Tuples"
   ]
  },
  {
   "cell_type": "code",
   "execution_count": null,
   "id": "8a7345cf",
   "metadata": {},
   "outputs": [
    {
     "data": {
      "text/plain": [
       "('sai', 'preetham', 'deepthi')"
      ]
     },
     "execution_count": 7,
     "metadata": {},
     "output_type": "execute_result"
    }
   ],
   "source": [
    "tup = (\"sai\", \"preetham\", \"deepthi\")\n",
    "tup"
   ]
  },
  {
   "cell_type": "code",
   "execution_count": null,
   "id": "3c7fa779",
   "metadata": {},
   "outputs": [
    {
     "data": {
      "text/plain": [
       "tuple"
      ]
     },
     "execution_count": 9,
     "metadata": {},
     "output_type": "execute_result"
    }
   ],
   "source": [
    "type(tup)"
   ]
  },
  {
   "cell_type": "code",
   "execution_count": null,
   "id": "a0a56625",
   "metadata": {},
   "outputs": [
    {
     "data": {
      "text/plain": [
       "'deepthi'"
      ]
     },
     "execution_count": 8,
     "metadata": {},
     "output_type": "execute_result"
    }
   ],
   "source": [
    "tup[-1]"
   ]
  },
  {
   "cell_type": "code",
   "execution_count": null,
   "id": "d8c94511",
   "metadata": {},
   "outputs": [
    {
     "data": {
      "text/plain": [
       "True"
      ]
     },
     "execution_count": 11,
     "metadata": {},
     "output_type": "execute_result"
    }
   ],
   "source": [
    "x = [1, \"sai\", 2.7, True]\n",
    "y = (2, \"deepthi\", 4.5, False)\n",
    "\n",
    "x.pop()"
   ]
  },
  {
   "cell_type": "markdown",
   "id": "1c5d1121",
   "metadata": {},
   "source": [
    "### tuples cannot be modified, can only be accessed."
   ]
  },
  {
   "cell_type": "code",
   "execution_count": null,
   "id": "766e1482",
   "metadata": {},
   "outputs": [
    {
     "ename": "AttributeError",
     "evalue": "'tuple' object has no attribute 'pop'",
     "output_type": "error",
     "traceback": [
      "\u001b[31m---------------------------------------------------------------------------\u001b[39m",
      "\u001b[31mAttributeError\u001b[39m                            Traceback (most recent call last)",
      "\u001b[36mCell\u001b[39m\u001b[36m \u001b[39m\u001b[32mIn[12]\u001b[39m\u001b[32m, line 1\u001b[39m\n\u001b[32m----> \u001b[39m\u001b[32m1\u001b[39m \u001b[43my\u001b[49m\u001b[43m.\u001b[49m\u001b[43mpop\u001b[49m()\n",
      "\u001b[31mAttributeError\u001b[39m: 'tuple' object has no attribute 'pop'"
     ]
    }
   ],
   "source": [
    "# y.pop()"
   ]
  },
  {
   "cell_type": "code",
   "execution_count": null,
   "id": "fe5ef5e3",
   "metadata": {},
   "outputs": [
    {
     "data": {
      "text/plain": [
       "([1, 'sai', 2.7], (2, 'deepthi', 4.5, False))"
      ]
     },
     "execution_count": 13,
     "metadata": {},
     "output_type": "execute_result"
    }
   ],
   "source": [
    "x,y"
   ]
  },
  {
   "cell_type": "code",
   "execution_count": null,
   "id": "a1aa7452",
   "metadata": {},
   "outputs": [
    {
     "data": {
      "text/plain": [
       "(2.7, False)"
      ]
     },
     "execution_count": 14,
     "metadata": {},
     "output_type": "execute_result"
    }
   ],
   "source": [
    "x[-1], y[-1]"
   ]
  },
  {
   "cell_type": "code",
   "execution_count": null,
   "id": "0dd2c42c",
   "metadata": {},
   "outputs": [
    {
     "data": {
      "text/plain": [
       "[1, 'sai', 2.7, 1, 'sai', 2.7]"
      ]
     },
     "execution_count": 15,
     "metadata": {},
     "output_type": "execute_result"
    }
   ],
   "source": [
    "x*2"
   ]
  },
  {
   "cell_type": "code",
   "execution_count": null,
   "id": "3c0720e3",
   "metadata": {},
   "outputs": [
    {
     "data": {
      "text/plain": [
       "(2, 'deepthi', 4.5, False, 2, 'deepthi', 4.5, False)"
      ]
     },
     "execution_count": 16,
     "metadata": {},
     "output_type": "execute_result"
    }
   ],
   "source": [
    "y*2"
   ]
  },
  {
   "cell_type": "code",
   "execution_count": null,
   "id": "a1cb93fb",
   "metadata": {},
   "outputs": [
    {
     "data": {
      "text/plain": [
       "('sai', 'deepthi', 'kishore', 24, 27, 26)"
      ]
     },
     "execution_count": 18,
     "metadata": {},
     "output_type": "execute_result"
    }
   ],
   "source": [
    "std_name = (\"sai\", \"deepthi\", \"kishore\")\n",
    "std_age = (24, 27, 26)\n",
    "\n",
    "std_name + std_age"
   ]
  },
  {
   "cell_type": "code",
   "execution_count": null,
   "id": "83f394ea",
   "metadata": {},
   "outputs": [],
   "source": [
    "std_name = (\"sai\", \"deepthi\", \"kishore\")\n",
    "std_age = [24, 27, 26]\n",
    "\n",
    "# std_name + std_age"
   ]
  },
  {
   "cell_type": "code",
   "execution_count": null,
   "id": "d87357c7",
   "metadata": {},
   "outputs": [
    {
     "data": {
      "text/plain": [
       "3"
      ]
     },
     "execution_count": 22,
     "metadata": {},
     "output_type": "execute_result"
    }
   ],
   "source": [
    "len(std_name)"
   ]
  },
  {
   "cell_type": "code",
   "execution_count": null,
   "id": "86448858",
   "metadata": {},
   "outputs": [
    {
     "name": "stdout",
     "output_type": "stream",
     "text": [
      "Krishna is not present\n"
     ]
    }
   ],
   "source": [
    "if \"krishna\" in std_name:\n",
    "    print(\"Krishna is Present\")\n",
    "else:\n",
    "    print(\"Krishna is not present\")"
   ]
  },
  {
   "cell_type": "code",
   "execution_count": null,
   "id": "05e51597",
   "metadata": {},
   "outputs": [
    {
     "name": "stdout",
     "output_type": "stream",
     "text": [
      "26 is present\n"
     ]
    }
   ],
   "source": [
    "if 26 in std_age:\n",
    "    print(\"26 is present\")\n",
    "else:\n",
    "    print(\"26 is absent\")"
   ]
  },
  {
   "cell_type": "code",
   "execution_count": null,
   "id": "faf79d40",
   "metadata": {},
   "outputs": [
    {
     "name": "stdout",
     "output_type": "stream",
     "text": [
      "26 is absent\n"
     ]
    }
   ],
   "source": [
    "if \"26\" in std_age:\n",
    "    print(\"26 is present\")\n",
    "else:\n",
    "    print(\"26 is absent\")"
   ]
  },
  {
   "cell_type": "code",
   "execution_count": null,
   "id": "8ecfd005",
   "metadata": {},
   "outputs": [
    {
     "name": "stdout",
     "output_type": "stream",
     "text": [
      "False\n"
     ]
    }
   ],
   "source": [
    "if 26 not in std_age:\n",
    "    print(\"True\")\n",
    "else:\n",
    "    print(\"False\")"
   ]
  },
  {
   "cell_type": "code",
   "execution_count": null,
   "id": "fafaaa7d",
   "metadata": {},
   "outputs": [
    {
     "data": {
      "text/plain": [
       "1"
      ]
     },
     "execution_count": 30,
     "metadata": {},
     "output_type": "execute_result"
    }
   ],
   "source": [
    "std_name.count(\"deepthi\")"
   ]
  },
  {
   "cell_type": "code",
   "execution_count": null,
   "id": "54bae494",
   "metadata": {},
   "outputs": [],
   "source": [
    "# std_name.count(\"deepthi\", \"sai\") ---> count can only take 1 argument."
   ]
  },
  {
   "cell_type": "markdown",
   "id": "853742b3",
   "metadata": {},
   "source": [
    "### Sets\n",
    "* Collection of unique elements\n",
    "* set is unordered"
   ]
  },
  {
   "cell_type": "code",
   "execution_count": null,
   "id": "06453409",
   "metadata": {},
   "outputs": [
    {
     "data": {
      "text/plain": [
       "dict"
      ]
     },
     "execution_count": 52,
     "metadata": {},
     "output_type": "execute_result"
    }
   ],
   "source": [
    "s = {}\n",
    "type(s)"
   ]
  },
  {
   "cell_type": "code",
   "execution_count": null,
   "id": "9d86b931",
   "metadata": {},
   "outputs": [
    {
     "data": {
      "text/plain": [
       "set"
      ]
     },
     "execution_count": 51,
     "metadata": {},
     "output_type": "execute_result"
    }
   ],
   "source": [
    "s = set()\n",
    "type(s)"
   ]
  },
  {
   "cell_type": "code",
   "execution_count": null,
   "id": "a33e0da3",
   "metadata": {},
   "outputs": [
    {
     "data": {
      "text/plain": [
       "set"
      ]
     },
     "execution_count": 50,
     "metadata": {},
     "output_type": "execute_result"
    }
   ],
   "source": [
    "s = {\"sai\", \"deepthi\", \"kishore\"}\n",
    "type(s)"
   ]
  },
  {
   "cell_type": "markdown",
   "id": "54f363ae",
   "metadata": {},
   "source": [
    "variable names cannot start with :"
   ]
  },
  {
   "cell_type": "code",
   "execution_count": null,
   "id": "ccbd6cab",
   "metadata": {},
   "outputs": [],
   "source": [
    "# .std_name\n",
    "# 12std_age\n",
    "# $std_age\n",
    "# list = \n",
    "# tupple = \n",
    "# set = \n",
    "# dict = "
   ]
  },
  {
   "cell_type": "code",
   "execution_count": null,
   "id": "cb14d47b",
   "metadata": {},
   "outputs": [
    {
     "data": {
      "text/plain": [
       "{'deepthi', 'kishore', 'sai'}"
      ]
     },
     "execution_count": 6,
     "metadata": {},
     "output_type": "execute_result"
    }
   ],
   "source": [
    "s = {\"sai\", \"deepthi\", \"sai\", \"sai\", \"kishore\"}\n",
    "s"
   ]
  },
  {
   "cell_type": "markdown",
   "id": "e2b13ba4",
   "metadata": {},
   "source": [
    "* set elements cannot be accessable"
   ]
  },
  {
   "cell_type": "code",
   "execution_count": null,
   "id": "684d7d68",
   "metadata": {},
   "outputs": [],
   "source": [
    "# s[0]"
   ]
  },
  {
   "cell_type": "code",
   "execution_count": null,
   "id": "f59560c8",
   "metadata": {},
   "outputs": [
    {
     "name": "stdout",
     "output_type": "stream",
     "text": [
      "kishore\n",
      "sai\n",
      "deepthi\n"
     ]
    }
   ],
   "source": [
    "for i in s:\n",
    "    print(i)"
   ]
  },
  {
   "cell_type": "code",
   "execution_count": null,
   "id": "9667be3c",
   "metadata": {},
   "outputs": [
    {
     "data": {
      "text/plain": [
       "{3, 'deepthi', 'kishore', 'sai'}"
      ]
     },
     "execution_count": 9,
     "metadata": {},
     "output_type": "execute_result"
    }
   ],
   "source": [
    "s.add(3)\n",
    "\n",
    "s"
   ]
  },
  {
   "cell_type": "code",
   "execution_count": null,
   "id": "d0a54f0e",
   "metadata": {},
   "outputs": [
    {
     "data": {
      "text/plain": [
       "{3, 'deepthi', 'kishore'}"
      ]
     },
     "execution_count": 10,
     "metadata": {},
     "output_type": "execute_result"
    }
   ],
   "source": [
    "s.discard(\"sai\")\n",
    "\n",
    "s"
   ]
  },
  {
   "cell_type": "code",
   "execution_count": null,
   "id": "b7ddc333",
   "metadata": {},
   "outputs": [
    {
     "data": {
      "text/plain": [
       "{3, 'deepthi', 'kishore'}"
      ]
     },
     "execution_count": 12,
     "metadata": {},
     "output_type": "execute_result"
    }
   ],
   "source": [
    "s.discard(\"sai\")\n",
    "\n",
    "s"
   ]
  },
  {
   "cell_type": "code",
   "execution_count": null,
   "id": "bbbaa9f6",
   "metadata": {},
   "outputs": [
    {
     "data": {
      "text/plain": [
       "{'deepthi', 'kishore'}"
      ]
     },
     "execution_count": 13,
     "metadata": {},
     "output_type": "execute_result"
    }
   ],
   "source": [
    "s.pop()\n",
    "\n",
    "s"
   ]
  },
  {
   "cell_type": "code",
   "execution_count": null,
   "id": "3afd1728",
   "metadata": {},
   "outputs": [
    {
     "data": {
      "text/plain": [
       "set"
      ]
     },
     "execution_count": 16,
     "metadata": {},
     "output_type": "execute_result"
    }
   ],
   "source": [
    "type({\"\"})"
   ]
  },
  {
   "cell_type": "code",
   "execution_count": null,
   "id": "f68c05b6",
   "metadata": {},
   "outputs": [
    {
     "data": {
      "text/plain": [
       "['sai', 'preetham', ('kishore', 'deepthi')]"
      ]
     },
     "execution_count": 1,
     "metadata": {},
     "output_type": "execute_result"
    }
   ],
   "source": [
    "l = [\"sai\", \"preetham\", (\"kishore\", \"deepthi\")]\n",
    "\n",
    "l"
   ]
  },
  {
   "cell_type": "code",
   "execution_count": null,
   "id": "cdc4052b",
   "metadata": {},
   "outputs": [
    {
     "data": {
      "text/plain": [
       "('kishore', 'deepthi')"
      ]
     },
     "execution_count": 2,
     "metadata": {},
     "output_type": "execute_result"
    }
   ],
   "source": [
    "l[-1]"
   ]
  },
  {
   "cell_type": "code",
   "execution_count": null,
   "id": "67fd8761",
   "metadata": {},
   "outputs": [
    {
     "data": {
      "text/plain": [
       "list"
      ]
     },
     "execution_count": 3,
     "metadata": {},
     "output_type": "execute_result"
    }
   ],
   "source": [
    "type(l)"
   ]
  },
  {
   "cell_type": "code",
   "execution_count": null,
   "id": "7d02821a",
   "metadata": {},
   "outputs": [
    {
     "data": {
      "text/plain": [
       "tuple"
      ]
     },
     "execution_count": 4,
     "metadata": {},
     "output_type": "execute_result"
    }
   ],
   "source": [
    "type(l[-1])"
   ]
  },
  {
   "cell_type": "code",
   "execution_count": null,
   "id": "2520c520",
   "metadata": {},
   "outputs": [
    {
     "data": {
      "text/plain": [
       "'kishore'"
      ]
     },
     "execution_count": 6,
     "metadata": {},
     "output_type": "execute_result"
    }
   ],
   "source": [
    "l[-1][0]"
   ]
  },
  {
   "cell_type": "code",
   "execution_count": null,
   "id": "bce45969",
   "metadata": {},
   "outputs": [
    {
     "data": {
      "text/plain": [
       "str"
      ]
     },
     "execution_count": 7,
     "metadata": {},
     "output_type": "execute_result"
    }
   ],
   "source": [
    "type(l[-1][0])"
   ]
  },
  {
   "cell_type": "markdown",
   "id": "ca8c8473",
   "metadata": {},
   "source": [
    "* List and dictionaries are not allowed in sets."
   ]
  },
  {
   "cell_type": "code",
   "execution_count": null,
   "id": "ddf7ca5d",
   "metadata": {},
   "outputs": [],
   "source": [
    "# s = {\"sai\", \"preetham\", [\"sai\", \"preetham\"]}\n",
    "\n",
    "# s"
   ]
  },
  {
   "cell_type": "markdown",
   "id": "f3ff07a1",
   "metadata": {},
   "source": [
    "* tuples can be alloed in sets."
   ]
  },
  {
   "cell_type": "code",
   "execution_count": null,
   "id": "98d7b054",
   "metadata": {},
   "outputs": [
    {
     "data": {
      "text/plain": [
       "{('sai', 'preetham'), 'preetham', 'sai'}"
      ]
     },
     "execution_count": 48,
     "metadata": {},
     "output_type": "execute_result"
    }
   ],
   "source": [
    "s = {\"sai\", \"preetham\", (\"sai\", \"preetham\")}\n",
    "\n",
    "s"
   ]
  },
  {
   "cell_type": "code",
   "execution_count": null,
   "id": "6f6932f4",
   "metadata": {},
   "outputs": [],
   "source": [
    "s.update(\"3\")"
   ]
  },
  {
   "cell_type": "code",
   "execution_count": null,
   "id": "bed5fa48",
   "metadata": {},
   "outputs": [
    {
     "data": {
      "text/plain": [
       "{('sai', 'preetham'), '3', 'preetham', 'sai'}"
      ]
     },
     "execution_count": 50,
     "metadata": {},
     "output_type": "execute_result"
    }
   ],
   "source": [
    "s"
   ]
  },
  {
   "cell_type": "code",
   "execution_count": null,
   "id": "de3df0c5",
   "metadata": {},
   "outputs": [],
   "source": [
    "# s.update(4,5)"
   ]
  },
  {
   "cell_type": "code",
   "execution_count": null,
   "id": "699096f1",
   "metadata": {},
   "outputs": [
    {
     "data": {
      "text/plain": [
       "{('sai', 'preetham'), '3', 4, '5', 7, 8.5, 'preetham', 'sai'}"
      ]
     },
     "execution_count": 52,
     "metadata": {},
     "output_type": "execute_result"
    }
   ],
   "source": [
    "s.update([4,\"5\"])\n",
    "s.update((7,8.5))\n",
    "\n",
    "s"
   ]
  },
  {
   "cell_type": "code",
   "execution_count": null,
   "id": "974ea767",
   "metadata": {},
   "outputs": [
    {
     "data": {
      "text/plain": [
       "{('sai', 'preetham'), '.', '3', 4, '4', '5', '6', 7, 8.5, 'preetham', 'sai'}"
      ]
     },
     "execution_count": 53,
     "metadata": {},
     "output_type": "execute_result"
    }
   ],
   "source": [
    "s.update(\"456.34\")\n",
    "\n",
    "s"
   ]
  },
  {
   "cell_type": "markdown",
   "id": "1887ab1b",
   "metadata": {},
   "source": [
    "* remove method gives key error ---> if a value is not present.\n",
    "* discard method dosen't gives you error"
   ]
  },
  {
   "cell_type": "code",
   "execution_count": null,
   "id": "e8e4f7cf",
   "metadata": {},
   "outputs": [],
   "source": [
    "# s.remove(3)"
   ]
  },
  {
   "cell_type": "code",
   "execution_count": null,
   "id": "1ae97b89",
   "metadata": {},
   "outputs": [
    {
     "data": {
      "text/plain": [
       "{('sai', 'preetham'), '3', 4, '4', '5', '6', 7, 8.5, 'preetham', 'sai'}"
      ]
     },
     "execution_count": 55,
     "metadata": {},
     "output_type": "execute_result"
    }
   ],
   "source": [
    "s.remove('.')\n",
    "\n",
    "s"
   ]
  },
  {
   "cell_type": "code",
   "execution_count": null,
   "id": "981a15d5",
   "metadata": {},
   "outputs": [
    {
     "data": {
      "text/plain": [
       "{('sai', 'preetham'), '3', 4, '4', '5', '6', 7, 8.5, 'preetham', 'sai'}"
      ]
     },
     "execution_count": 56,
     "metadata": {},
     "output_type": "execute_result"
    }
   ],
   "source": [
    "s.discard(3)\n",
    "\n",
    "s"
   ]
  },
  {
   "cell_type": "code",
   "execution_count": null,
   "id": "d969bd0a",
   "metadata": {},
   "outputs": [],
   "source": [
    "s1 = {\"sai\", \"preetham\", \"subhashini\"}\n",
    "s2 = {\"kishore\", \"sai\", \"krishna\"}"
   ]
  },
  {
   "cell_type": "code",
   "execution_count": null,
   "id": "38cf95e9",
   "metadata": {},
   "outputs": [
    {
     "data": {
      "text/plain": [
       "{'kishore', 'krishna', 'preetham', 'sai', 'subhashini'}"
      ]
     },
     "execution_count": 64,
     "metadata": {},
     "output_type": "execute_result"
    }
   ],
   "source": [
    "s1.union(s2)\n",
    "\n",
    "# or s1 | s2"
   ]
  },
  {
   "cell_type": "code",
   "execution_count": null,
   "id": "8abcd8cb",
   "metadata": {},
   "outputs": [
    {
     "data": {
      "text/plain": [
       "{'sai'}"
      ]
     },
     "execution_count": 65,
     "metadata": {},
     "output_type": "execute_result"
    }
   ],
   "source": [
    "s1.intersection(s2)\n",
    "\n",
    "# s1 & s2"
   ]
  },
  {
   "cell_type": "code",
   "execution_count": null,
   "id": "3cb2b591",
   "metadata": {},
   "outputs": [
    {
     "data": {
      "text/plain": [
       "{'kishore', 'krishna'}"
      ]
     },
     "execution_count": 66,
     "metadata": {},
     "output_type": "execute_result"
    }
   ],
   "source": [
    "s2.difference(s1)\n",
    "\n",
    "# or s2 - s1"
   ]
  },
  {
   "cell_type": "code",
   "execution_count": null,
   "id": "755e27cf",
   "metadata": {},
   "outputs": [
    {
     "data": {
      "text/plain": [
       "{'preetham', 'subhashini'}"
      ]
     },
     "execution_count": 67,
     "metadata": {},
     "output_type": "execute_result"
    }
   ],
   "source": [
    "s1.difference(s2)\n",
    "\n",
    "# or s1 - s2"
   ]
  },
  {
   "cell_type": "code",
   "execution_count": null,
   "id": "4be5d0e8",
   "metadata": {},
   "outputs": [
    {
     "data": {
      "text/plain": [
       "{'kishore', 'krishna', 'preetham', 'subhashini'}"
      ]
     },
     "execution_count": 68,
     "metadata": {},
     "output_type": "execute_result"
    }
   ],
   "source": [
    "s1.symmetric_difference(s2)\n",
    "\n",
    "# or (s1 | s2) - (s1 & s2)"
   ]
  },
  {
   "cell_type": "code",
   "execution_count": null,
   "id": "1924d9fc",
   "metadata": {},
   "outputs": [
    {
     "data": {
      "text/plain": [
       "{'kishore', 'krishna', 'preetham', 'subhashini'}"
      ]
     },
     "execution_count": 71,
     "metadata": {},
     "output_type": "execute_result"
    }
   ],
   "source": [
    "(s1 | s2) - (s1 & s2)"
   ]
  },
  {
   "cell_type": "code",
   "execution_count": null,
   "id": "491792a6",
   "metadata": {},
   "outputs": [
    {
     "data": {
      "text/plain": [
       "{'kishore', 'krishna', 'preetham', 'sai', 'subhashini'}"
      ]
     },
     "execution_count": 72,
     "metadata": {},
     "output_type": "execute_result"
    }
   ],
   "source": [
    "s1 | s2 - (s1 & s2)"
   ]
  },
  {
   "cell_type": "code",
   "execution_count": null,
   "id": "f0f8e82f",
   "metadata": {},
   "outputs": [
    {
     "data": {
      "text/plain": [
       "True"
      ]
     },
     "execution_count": 73,
     "metadata": {},
     "output_type": "execute_result"
    }
   ],
   "source": [
    "s3 = {\"sai\", \"deepthi\", \"krishna\", \"kishore\", \"subhashini\"}\n",
    "s4 = {\"sai\", \"deepthi\"}"
   ]
  },
  {
   "cell_type": "code",
   "execution_count": null,
   "id": "04f52e60",
   "metadata": {},
   "outputs": [
    {
     "data": {
      "text/plain": [
       "True"
      ]
     },
     "execution_count": 78,
     "metadata": {},
     "output_type": "execute_result"
    }
   ],
   "source": [
    "s4.issubset(s3)\n",
    "\n",
    "# or s4 <= s3"
   ]
  },
  {
   "cell_type": "code",
   "execution_count": null,
   "id": "bd113976",
   "metadata": {},
   "outputs": [
    {
     "data": {
      "text/plain": [
       "False"
      ]
     },
     "execution_count": 75,
     "metadata": {},
     "output_type": "execute_result"
    }
   ],
   "source": [
    "s3.issubset(s4)"
   ]
  },
  {
   "cell_type": "code",
   "execution_count": null,
   "id": "0f92695d",
   "metadata": {},
   "outputs": [
    {
     "data": {
      "text/plain": [
       "True"
      ]
     },
     "execution_count": 76,
     "metadata": {},
     "output_type": "execute_result"
    }
   ],
   "source": [
    "s3.issuperset(s4)"
   ]
  },
  {
   "cell_type": "code",
   "execution_count": null,
   "id": "efc55c2b",
   "metadata": {},
   "outputs": [
    {
     "data": {
      "text/plain": [
       "False"
      ]
     },
     "execution_count": 77,
     "metadata": {},
     "output_type": "execute_result"
    }
   ],
   "source": [
    "s4.issuperset(s3)"
   ]
  },
  {
   "cell_type": "markdown",
   "id": "dd1f59aa",
   "metadata": {},
   "source": [
    "### Day - 6"
   ]
  },
  {
   "cell_type": "markdown",
   "id": "4f683a8a",
   "metadata": {},
   "source": [
    "### Dictionaries\n",
    "* it is unordered ---> before python-3.7 version\n",
    "* it is ordered ---> after python-3.7 version"
   ]
  },
  {
   "cell_type": "code",
   "execution_count": null,
   "id": "7a8ca5e1",
   "metadata": {},
   "outputs": [
    {
     "data": {
      "text/plain": [
       "dict"
      ]
     },
     "execution_count": 1,
     "metadata": {},
     "output_type": "execute_result"
    }
   ],
   "source": [
    "x = {}\n",
    "\n",
    "type(x)"
   ]
  },
  {
   "cell_type": "code",
   "execution_count": null,
   "id": "c14d19e9",
   "metadata": {},
   "outputs": [
    {
     "data": {
      "text/plain": [
       "dict"
      ]
     },
     "execution_count": 2,
     "metadata": {},
     "output_type": "execute_result"
    }
   ],
   "source": [
    "y = dict()\n",
    "\n",
    "type(y)"
   ]
  },
  {
   "cell_type": "code",
   "execution_count": null,
   "id": "b790c4f8",
   "metadata": {},
   "outputs": [
    {
     "data": {
      "text/plain": [
       "{'sai': 24, 'krishna': 22, 'deepthi': 30, 'kishore': 26}"
      ]
     },
     "execution_count": 4,
     "metadata": {},
     "output_type": "execute_result"
    }
   ],
   "source": [
    "x = {\"sai\" : 24, \"krishna\" : 22, \"deepthi\" : 30, \"kishore\" : 26}\n",
    "\n",
    "x"
   ]
  },
  {
   "cell_type": "markdown",
   "id": "5363018b",
   "metadata": {},
   "source": [
    "* it can be accessed by using keys."
   ]
  },
  {
   "cell_type": "code",
   "execution_count": null,
   "id": "219a1a86",
   "metadata": {},
   "outputs": [
    {
     "data": {
      "text/plain": [
       "24"
      ]
     },
     "execution_count": 7,
     "metadata": {},
     "output_type": "execute_result"
    }
   ],
   "source": [
    "x[\"sai\"]"
   ]
  },
  {
   "cell_type": "code",
   "execution_count": null,
   "id": "fcb2c26f",
   "metadata": {},
   "outputs": [
    {
     "data": {
      "text/plain": [
       "26"
      ]
     },
     "execution_count": 8,
     "metadata": {},
     "output_type": "execute_result"
    }
   ],
   "source": [
    "x[\"kishore\"]"
   ]
  },
  {
   "cell_type": "markdown",
   "id": "a77b0bc1",
   "metadata": {},
   "source": [
    "* keys"
   ]
  },
  {
   "cell_type": "code",
   "execution_count": null,
   "id": "094db398",
   "metadata": {},
   "outputs": [
    {
     "name": "stdout",
     "output_type": "stream",
     "text": [
      "sai\n",
      "krishna\n",
      "deepthi\n",
      "kishore\n"
     ]
    }
   ],
   "source": [
    "for i in x:\n",
    "    print(i)"
   ]
  },
  {
   "cell_type": "code",
   "execution_count": null,
   "id": "46392fe2",
   "metadata": {},
   "outputs": [
    {
     "name": "stdout",
     "output_type": "stream",
     "text": [
      "24\n",
      "22\n",
      "30\n",
      "26\n"
     ]
    }
   ],
   "source": [
    "for i in x.values():\n",
    "    print(x[i])"
   ]
  },
  {
   "cell_type": "code",
   "execution_count": null,
   "id": "3d18613b",
   "metadata": {},
   "outputs": [
    {
     "name": "stdout",
     "output_type": "stream",
     "text": [
      "sai 24\n",
      "krishna 22\n",
      "deepthi 30\n",
      "kishore 26\n"
     ]
    }
   ],
   "source": [
    "for i in x:\n",
    "    print(i, x[i])"
   ]
  },
  {
   "cell_type": "code",
   "execution_count": null,
   "id": "ca5a83e0",
   "metadata": {},
   "outputs": [
    {
     "name": "stdout",
     "output_type": "stream",
     "text": [
      "sai\n",
      "krishna\n",
      "deepthi\n",
      "kishore\n"
     ]
    }
   ],
   "source": [
    "for i in x.keys():\n",
    "    print(i)"
   ]
  },
  {
   "cell_type": "code",
   "execution_count": null,
   "id": "e9732fff",
   "metadata": {},
   "outputs": [
    {
     "name": "stdout",
     "output_type": "stream",
     "text": [
      "24\n",
      "22\n",
      "30\n",
      "26\n"
     ]
    }
   ],
   "source": [
    "for i in x.values():\n",
    "    print(i)"
   ]
  },
  {
   "cell_type": "code",
   "execution_count": null,
   "id": "071f3e8d",
   "metadata": {},
   "outputs": [
    {
     "name": "stdout",
     "output_type": "stream",
     "text": [
      "('sai', 24)\n",
      "('krishna', 22)\n",
      "('deepthi', 30)\n",
      "('kishore', 26)\n"
     ]
    }
   ],
   "source": [
    "for i in x.items():\n",
    "    print(i)"
   ]
  },
  {
   "cell_type": "code",
   "execution_count": null,
   "id": "219b27e3",
   "metadata": {},
   "outputs": [
    {
     "name": "stdout",
     "output_type": "stream",
     "text": [
      "Key : SAI , Value : 26\n",
      "Key : KRISHNA , Value : 24\n",
      "Key : DEEPTHI , Value : 32\n",
      "Key : KISHORE , Value : 28\n"
     ]
    }
   ],
   "source": [
    "for i,j in x.items():\n",
    "    print(\"Key :\", i.upper(), \", Value :\", j+2)"
   ]
  },
  {
   "cell_type": "code",
   "execution_count": null,
   "id": "15958069",
   "metadata": {},
   "outputs": [
    {
     "data": {
      "text/plain": [
       "{'sai': 24, 'krishna': 22, 'deepthi': 30, 'kishore': 26}"
      ]
     },
     "execution_count": 33,
     "metadata": {},
     "output_type": "execute_result"
    }
   ],
   "source": [
    "x"
   ]
  },
  {
   "cell_type": "code",
   "execution_count": null,
   "id": "2273c3b9",
   "metadata": {},
   "outputs": [
    {
     "data": {
      "text/plain": [
       "{'sai': 24, 'krishna': 22, 'deepthi': 30, 'kishore': 26, 'subhashini': 45}"
      ]
     },
     "execution_count": 34,
     "metadata": {},
     "output_type": "execute_result"
    }
   ],
   "source": [
    "x[\"subhashini\"] = 45\n",
    "\n",
    "x"
   ]
  },
  {
   "cell_type": "code",
   "execution_count": null,
   "id": "00d98f6b",
   "metadata": {},
   "outputs": [
    {
     "data": {
      "text/plain": [
       "{'sai': 24,\n",
       " 'krishna': 22,\n",
       " 'deepthi': 30,\n",
       " 'kishore': 26,\n",
       " 'subhashini': 45,\n",
       " 'venkatesara': 50,\n",
       " 'venkateswara': 50}"
      ]
     },
     "execution_count": 40,
     "metadata": {},
     "output_type": "execute_result"
    }
   ],
   "source": [
    "x.update({\"venkateswara\" : 50})\n",
    "\n",
    "x"
   ]
  },
  {
   "cell_type": "code",
   "execution_count": null,
   "id": "c44b7aab",
   "metadata": {},
   "outputs": [
    {
     "data": {
      "text/plain": [
       "{'sai': 24,\n",
       " 'krishna': 22,\n",
       " 'deepthi': 30,\n",
       " 'kishore': 26,\n",
       " 'subhashini': 45,\n",
       " 'venkateswara': 50}"
      ]
     },
     "execution_count": 42,
     "metadata": {},
     "output_type": "execute_result"
    }
   ],
   "source": [
    "x.pop(\"venkatesara\")\n",
    "\n",
    "x"
   ]
  },
  {
   "cell_type": "markdown",
   "id": "69c0864a",
   "metadata": {},
   "source": [
    "* pop() in dictionary must contain 1 argument i.e 'key', otherwise u will get error"
   ]
  },
  {
   "cell_type": "code",
   "execution_count": null,
   "id": "72a48525",
   "metadata": {},
   "outputs": [],
   "source": [
    "# x.pop()\n",
    "\n",
    "# x"
   ]
  },
  {
   "cell_type": "code",
   "execution_count": null,
   "id": "9f55291c",
   "metadata": {},
   "outputs": [
    {
     "data": {
      "text/plain": [
       "{'sai': 24,\n",
       " 'krishna': 22,\n",
       " 'deepthi': 30,\n",
       " 'kishore': 26,\n",
       " 'subhashini': 45,\n",
       " 'venkateswara': 50}"
      ]
     },
     "execution_count": 45,
     "metadata": {},
     "output_type": "execute_result"
    }
   ],
   "source": [
    "x"
   ]
  },
  {
   "cell_type": "code",
   "execution_count": null,
   "id": "d1ecb8ad",
   "metadata": {},
   "outputs": [
    {
     "data": {
      "text/plain": [
       "{'sai': 24,\n",
       " 'krishna': 22,\n",
       " 'deepthi': 32,\n",
       " 'kishore': 26,\n",
       " 'subhashini': 45,\n",
       " 'venkateswara': 50}"
      ]
     },
     "execution_count": 46,
     "metadata": {},
     "output_type": "execute_result"
    }
   ],
   "source": [
    "x[\"deepthi\"] = 32\n",
    "\n",
    "x"
   ]
  },
  {
   "cell_type": "code",
   "execution_count": null,
   "id": "126505fb",
   "metadata": {},
   "outputs": [
    {
     "data": {
      "text/plain": [
       "{'sai': 24,\n",
       " 'krishna': 22,\n",
       " 'deepthi': 'Deepthi',\n",
       " 'kishore': 26,\n",
       " 'subhashini': 45,\n",
       " 'venkateswara': 50}"
      ]
     },
     "execution_count": 47,
     "metadata": {},
     "output_type": "execute_result"
    }
   ],
   "source": [
    "x[\"deepthi\"] = \"Deepthi\"\n",
    "\n",
    "x"
   ]
  },
  {
   "cell_type": "code",
   "execution_count": null,
   "id": "870aab3c",
   "metadata": {},
   "outputs": [
    {
     "data": {
      "text/plain": [
       "{'sai': 24,\n",
       " 'krishna': 22,\n",
       " 'deepthi': 'Deepthi',\n",
       " 'kishore': 26,\n",
       " 'subhashini': ['housewife', 'married'],\n",
       " 'venkateswara': 50}"
      ]
     },
     "execution_count": 48,
     "metadata": {},
     "output_type": "execute_result"
    }
   ],
   "source": [
    "x[\"subhashini\"] = [\"housewife\", \"married\"]\n",
    "\n",
    "x"
   ]
  },
  {
   "cell_type": "code",
   "execution_count": null,
   "id": "468c304a",
   "metadata": {},
   "outputs": [
    {
     "data": {
      "text/plain": [
       "{'sai': 24,\n",
       " 'krishna': 22,\n",
       " 'deepthi': 'Deepthi',\n",
       " 'kishore': 26,\n",
       " 'subhashini': ['housewife', 'married'],\n",
       " 'venkateswara': 50,\n",
       " 24: 'abc'}"
      ]
     },
     "execution_count": 49,
     "metadata": {},
     "output_type": "execute_result"
    }
   ],
   "source": [
    "x[24] = \"abc\"\n",
    "\n",
    "x"
   ]
  },
  {
   "cell_type": "code",
   "execution_count": null,
   "id": "e7459381",
   "metadata": {},
   "outputs": [],
   "source": [
    "# x[[\"sai\", \"preetham\"]] = 40\n",
    "\n",
    "# x"
   ]
  },
  {
   "cell_type": "code",
   "execution_count": null,
   "id": "4b267deb",
   "metadata": {},
   "outputs": [],
   "source": [
    "# x.update({[\"sai\", \"preetham\"] : 35})\n",
    "\n",
    "# x"
   ]
  },
  {
   "cell_type": "code",
   "execution_count": null,
   "id": "7b3910ff",
   "metadata": {},
   "outputs": [
    {
     "data": {
      "text/plain": [
       "{'sai': 24,\n",
       " 'krishna': 22,\n",
       " 'deepthi': 'Deepthi',\n",
       " 'kishore': 26,\n",
       " 'subhashini': ['housewife', 'married'],\n",
       " 'venkateswara': 50,\n",
       " 24: 'abc',\n",
       " 69.5: 'hello'}"
      ]
     },
     "execution_count": 54,
     "metadata": {},
     "output_type": "execute_result"
    }
   ],
   "source": [
    "x[24.5+45] = \"hello\"\n",
    "\n",
    "x"
   ]
  },
  {
   "cell_type": "markdown",
   "id": "33202a62",
   "metadata": {},
   "source": [
    "### nested dictionaries"
   ]
  },
  {
   "cell_type": "code",
   "execution_count": null,
   "id": "0dc3ea64",
   "metadata": {},
   "outputs": [
    {
     "data": {
      "text/plain": [
       "{'employees': [{'name': 'sai',\n",
       "   'age': 24,\n",
       "   'emp_id': 8133398,\n",
       "   'dept': 'developer'},\n",
       "  {'name': 'deepthi', 'age': 32, 'emp_id': 8133399, 'dept': 'testing'}],\n",
       " 'staff': {'name': 'abc', 'age': 35, 'dept': 'cleaning'}}"
      ]
     },
     "execution_count": 55,
     "metadata": {},
     "output_type": "execute_result"
    }
   ],
   "source": [
    "organisation = {'employees' : [{'name' : 'sai', 'age' : 24, 'emp_id' : 8133398, 'dept' : 'developer'},\n",
    "                               {'name' : 'deepthi', 'age' : 32, 'emp_id' : 8133399, 'dept' : 'testing'}],\n",
    "\n",
    "                'staff' : {'name' : 'abc', 'age' : 35, 'dept' : 'cleaning'}\n",
    "                }\n",
    "\n",
    "organisation"
   ]
  },
  {
   "cell_type": "code",
   "execution_count": null,
   "id": "2d74ef14",
   "metadata": {},
   "outputs": [
    {
     "data": {
      "text/plain": [
       "[{'name': 'sai', 'age': 24, 'emp_id': 8133398, 'dept': 'developer'},\n",
       " {'name': 'deepthi', 'age': 32, 'emp_id': 8133399, 'dept': 'testing'}]"
      ]
     },
     "execution_count": 56,
     "metadata": {},
     "output_type": "execute_result"
    }
   ],
   "source": [
    "organisation[\"employees\"]"
   ]
  },
  {
   "cell_type": "code",
   "execution_count": null,
   "id": "dc3cd962",
   "metadata": {},
   "outputs": [
    {
     "data": {
      "text/plain": [
       "{'name': 'sai', 'age': 24, 'emp_id': 8133398, 'dept': 'developer'}"
      ]
     },
     "execution_count": 57,
     "metadata": {},
     "output_type": "execute_result"
    }
   ],
   "source": [
    "organisation[\"employees\"][0]"
   ]
  },
  {
   "cell_type": "code",
   "execution_count": null,
   "id": "36e668fc",
   "metadata": {},
   "outputs": [
    {
     "data": {
      "text/plain": [
       "'developer'"
      ]
     },
     "execution_count": 58,
     "metadata": {},
     "output_type": "execute_result"
    }
   ],
   "source": [
    "organisation[\"employees\"][0]['dept']"
   ]
  },
  {
   "cell_type": "code",
   "execution_count": null,
   "id": "487baa68",
   "metadata": {},
   "outputs": [
    {
     "data": {
      "text/plain": [
       "'velope'"
      ]
     },
     "execution_count": 60,
     "metadata": {},
     "output_type": "execute_result"
    }
   ],
   "source": [
    "organisation[\"employees\"][0]['dept'][2:-1]"
   ]
  },
  {
   "cell_type": "code",
   "execution_count": null,
   "id": "cbcae209",
   "metadata": {},
   "outputs": [
    {
     "data": {
      "text/plain": [
       "dict_keys(['employees', 'staff'])"
      ]
     },
     "execution_count": 61,
     "metadata": {},
     "output_type": "execute_result"
    }
   ],
   "source": [
    "organisation.keys()"
   ]
  },
  {
   "cell_type": "code",
   "execution_count": null,
   "id": "2eaee027",
   "metadata": {},
   "outputs": [
    {
     "data": {
      "text/plain": [
       "dict_keys"
      ]
     },
     "execution_count": 65,
     "metadata": {},
     "output_type": "execute_result"
    }
   ],
   "source": [
    "type(organisation.keys())"
   ]
  },
  {
   "cell_type": "code",
   "execution_count": null,
   "id": "5c88fc61",
   "metadata": {},
   "outputs": [
    {
     "data": {
      "text/plain": [
       "['employees', 'staff']"
      ]
     },
     "execution_count": 68,
     "metadata": {},
     "output_type": "execute_result"
    }
   ],
   "source": [
    "list(organisation.keys())"
   ]
  },
  {
   "cell_type": "code",
   "execution_count": null,
   "id": "5cf9352f",
   "metadata": {},
   "outputs": [
    {
     "data": {
      "text/plain": [
       "dict_values([[{'name': 'sai', 'age': 24, 'emp_id': 8133398, 'dept': 'developer'}, {'name': 'deepthi', 'age': 32, 'emp_id': 8133399, 'dept': 'testing'}], {'name': 'abc', 'age': 35, 'dept': 'cleaning'}])"
      ]
     },
     "execution_count": 63,
     "metadata": {},
     "output_type": "execute_result"
    }
   ],
   "source": [
    "organisation.values()"
   ]
  },
  {
   "cell_type": "code",
   "execution_count": null,
   "id": "90c1be1e",
   "metadata": {},
   "outputs": [
    {
     "data": {
      "text/plain": [
       "dict_items([('employees', [{'name': 'sai', 'age': 24, 'emp_id': 8133398, 'dept': 'developer'}, {'name': 'deepthi', 'age': 32, 'emp_id': 8133399, 'dept': 'testing'}]), ('staff', {'name': 'abc', 'age': 35, 'dept': 'cleaning'})])"
      ]
     },
     "execution_count": 69,
     "metadata": {},
     "output_type": "execute_result"
    }
   ],
   "source": [
    "organisation.items()"
   ]
  },
  {
   "cell_type": "code",
   "execution_count": null,
   "id": "1cae6bca",
   "metadata": {},
   "outputs": [
    {
     "data": {
      "text/plain": [
       "{'employees': [{'name': 'sai',\n",
       "   'age': 24,\n",
       "   'emp_id': 8133398,\n",
       "   'dept': 'developer'},\n",
       "  {'name': 'deepthi', 'age': 32, 'emp_id': 8133399, 'dept': 'testing'}],\n",
       " 'staff': {'name': 'abc', 'age': 35, 'dept': 'cleaning'}}"
      ]
     },
     "execution_count": 70,
     "metadata": {},
     "output_type": "execute_result"
    }
   ],
   "source": [
    "organisation"
   ]
  },
  {
   "cell_type": "code",
   "execution_count": null,
   "id": "ed05a254",
   "metadata": {},
   "outputs": [
    {
     "data": {
      "text/plain": [
       "2"
      ]
     },
     "execution_count": 71,
     "metadata": {},
     "output_type": "execute_result"
    }
   ],
   "source": [
    "len(organisation)"
   ]
  },
  {
   "cell_type": "code",
   "execution_count": null,
   "id": "c5868a99",
   "metadata": {},
   "outputs": [
    {
     "name": "stdout",
     "output_type": "stream",
     "text": [
      "False\n"
     ]
    }
   ],
   "source": [
    "if \"emp_id\" in organisation:\n",
    "    print(True)\n",
    "else:\n",
    "    print(False)"
   ]
  },
  {
   "cell_type": "code",
   "execution_count": null,
   "id": "ac2f01e1",
   "metadata": {},
   "outputs": [
    {
     "data": {
      "text/plain": [
       "[{'name': 'sai', 'age': 24, 'emp_id': 8133398, 'dept': 'developer'},\n",
       " {'name': 'deepthi', 'age': 32, 'emp_id': 8133399, 'dept': 'testing'}]"
      ]
     },
     "execution_count": 74,
     "metadata": {},
     "output_type": "execute_result"
    }
   ],
   "source": [
    "organisation['employees']"
   ]
  },
  {
   "cell_type": "code",
   "execution_count": null,
   "id": "dcf3bdf7",
   "metadata": {},
   "outputs": [
    {
     "name": "stdout",
     "output_type": "stream",
     "text": [
      "False\n"
     ]
    }
   ],
   "source": [
    "if 'emp_id' in organisation['employees']:\n",
    "    print(True)\n",
    "else:\n",
    "    print(False)"
   ]
  },
  {
   "cell_type": "code",
   "execution_count": null,
   "id": "b6cd8e09",
   "metadata": {},
   "outputs": [
    {
     "data": {
      "text/plain": [
       "{'name': 'sai', 'age': 24, 'emp_id': 8133398, 'dept': 'developer'}"
      ]
     },
     "execution_count": 76,
     "metadata": {},
     "output_type": "execute_result"
    }
   ],
   "source": [
    "organisation['employees'][0]"
   ]
  },
  {
   "cell_type": "code",
   "execution_count": null,
   "id": "8468fd2f",
   "metadata": {},
   "outputs": [
    {
     "name": "stdout",
     "output_type": "stream",
     "text": [
      "True\n"
     ]
    }
   ],
   "source": [
    "if 'emp_id' in organisation['employees'][0]:\n",
    "    print(True)\n",
    "else:\n",
    "    print(False)"
   ]
  },
  {
   "cell_type": "code",
   "execution_count": null,
   "id": "9ca4efc4",
   "metadata": {},
   "outputs": [
    {
     "data": {
      "text/plain": [
       "{'one': 1, 'two': 2, 'three': 3}"
      ]
     },
     "execution_count": 77,
     "metadata": {},
     "output_type": "execute_result"
    }
   ],
   "source": [
    "x = {'one' : 1, 'two' : 2, 'three' : 3}\n",
    "\n",
    "x"
   ]
  },
  {
   "cell_type": "code",
   "execution_count": null,
   "id": "2e1105dc",
   "metadata": {},
   "outputs": [
    {
     "name": "stdout",
     "output_type": "stream",
     "text": [
      "1\n",
      "8\n",
      "27\n"
     ]
    }
   ],
   "source": [
    "for i in x.values():\n",
    "    print(i**3)"
   ]
  },
  {
   "cell_type": "code",
   "execution_count": null,
   "id": "045f237d",
   "metadata": {},
   "outputs": [
    {
     "data": {
      "text/plain": [
       "{'1': 1,\n",
       " '2': 8,\n",
       " '3': 27,\n",
       " '4': 64,\n",
       " '5': 125,\n",
       " '6': 216,\n",
       " '7': 343,\n",
       " '8': 512,\n",
       " '9': 729,\n",
       " '10': 1000}"
      ]
     },
     "execution_count": 89,
     "metadata": {},
     "output_type": "execute_result"
    }
   ],
   "source": [
    "{f'{i}' : i**3 for i in range(1,11)}"
   ]
  },
  {
   "cell_type": "markdown",
   "id": "643a17dc",
   "metadata": {},
   "source": [
    "### Day - 6\n",
    "* Functions"
   ]
  },
  {
   "cell_type": "code",
   "execution_count": null,
   "id": "d55a7b36",
   "metadata": {},
   "outputs": [
    {
     "name": "stdout",
     "output_type": "stream",
     "text": [
      "12 Not a Prime Number\n"
     ]
    }
   ],
   "source": [
    "n = 12\n",
    "\n",
    "for i in range(2,n):\n",
    "    if n%i == 0:\n",
    "        print(n, \"Not a Prime Number\")\n",
    "        break\n",
    "else:\n",
    "    print(\"Prime Number\")"
   ]
  },
  {
   "cell_type": "code",
   "execution_count": null,
   "id": "7a9ade74",
   "metadata": {},
   "outputs": [],
   "source": [
    "def prime(n):\n",
    "    pass"
   ]
  },
  {
   "cell_type": "code",
   "execution_count": null,
   "id": "0ed2d22a",
   "metadata": {},
   "outputs": [],
   "source": [
    "def prime(n):\n",
    "    print(\"Hello\")"
   ]
  },
  {
   "cell_type": "code",
   "execution_count": null,
   "id": "bcb24eef",
   "metadata": {},
   "outputs": [
    {
     "name": "stdout",
     "output_type": "stream",
     "text": [
      "Hello World\n"
     ]
    }
   ],
   "source": [
    "def prime():\n",
    "    print(\"Hello World\")\n",
    "\n",
    "prime()"
   ]
  },
  {
   "cell_type": "code",
   "execution_count": null,
   "id": "45efc59f",
   "metadata": {},
   "outputs": [
    {
     "name": "stdout",
     "output_type": "stream",
     "text": [
      "Hello Sai 10\n"
     ]
    }
   ],
   "source": [
    "def prime(n):\n",
    "    print(\"Hello Sai\", n)\n",
    "\n",
    "prime(10)"
   ]
  },
  {
   "cell_type": "code",
   "execution_count": null,
   "id": "d74b1fc0",
   "metadata": {},
   "outputs": [
    {
     "name": "stdout",
     "output_type": "stream",
     "text": [
      "hello\n"
     ]
    }
   ],
   "source": [
    "def prime():\n",
    "    print(\"Hi, there\")\n",
    "\n",
    "def prime():\n",
    "    print(\"hi\")\n",
    "\n",
    "def prime():\n",
    "    print(\"hello\")\n",
    "\n",
    "prime()"
   ]
  },
  {
   "cell_type": "code",
   "execution_count": null,
   "id": "3bbe15b1",
   "metadata": {},
   "outputs": [
    {
     "ename": "TypeError",
     "evalue": "prime() missing 1 required positional argument: 'n'",
     "output_type": "error",
     "traceback": [
      "\u001b[31m---------------------------------------------------------------------------\u001b[39m",
      "\u001b[31mTypeError\u001b[39m                                 Traceback (most recent call last)",
      "\u001b[36mCell\u001b[39m\u001b[36m \u001b[39m\u001b[32mIn[4]\u001b[39m\u001b[32m, line 7\u001b[39m\n\u001b[32m      4\u001b[39m \u001b[38;5;28;01mdef\u001b[39;00m\u001b[38;5;250m \u001b[39m\u001b[34mprime\u001b[39m(n):\n\u001b[32m      5\u001b[39m     \u001b[38;5;28mprint\u001b[39m(\u001b[33m\"\u001b[39m\u001b[33mhello\u001b[39m\u001b[33m\"\u001b[39m)\n\u001b[32m----> \u001b[39m\u001b[32m7\u001b[39m \u001b[43mprime\u001b[49m\u001b[43m(\u001b[49m\u001b[43m)\u001b[49m\n",
      "\u001b[31mTypeError\u001b[39m: prime() missing 1 required positional argument: 'n'"
     ]
    }
   ],
   "source": [
    "def prime():\n",
    "    print(\"hi\")\n",
    "\n",
    "def prime(n):\n",
    "    print(\"hello\")\n",
    "\n",
    "prime()"
   ]
  },
  {
   "cell_type": "code",
   "execution_count": null,
   "id": "bb374a2a",
   "metadata": {},
   "outputs": [
    {
     "name": "stdout",
     "output_type": "stream",
     "text": [
      "hello deepthi\n"
     ]
    }
   ],
   "source": [
    "def prime():\n",
    "    print(\"hi\")\n",
    "\n",
    "def prime(n):\n",
    "    print(\"hello\", n)\n",
    "\n",
    "prime('deepthi')"
   ]
  },
  {
   "cell_type": "code",
   "execution_count": null,
   "id": "eeb80d15",
   "metadata": {},
   "outputs": [
    {
     "name": "stdout",
     "output_type": "stream",
     "text": [
      "The number 57 is divided by 3, so it is not a prime.\n",
      "The number 77 is divided by 7, so it is not a prime.\n",
      "The number 13 is a prime.\n"
     ]
    }
   ],
   "source": [
    "def prime(n):     # n ---> parameter\n",
    "    for i in range(2, n):\n",
    "        if  n%i == 0:\n",
    "            return f\"The number {n} is divided by {i}, so it is not a prime.\"\n",
    "    else:\n",
    "        return f\"The number {n} is a prime.\"\n",
    "\n",
    "\n",
    "print(prime(57))       # 57 ---> argument\n",
    "temp = prime(77)\n",
    "print(temp)\n",
    "print(prime(13))"
   ]
  },
  {
   "cell_type": "code",
   "execution_count": 20,
   "id": "358236fb",
   "metadata": {},
   "outputs": [
    {
     "name": "stdout",
     "output_type": "stream",
     "text": [
      "35 Not a Prime\n"
     ]
    },
    {
     "data": {
      "text/plain": [
       "5"
      ]
     },
     "execution_count": 20,
     "metadata": {},
     "output_type": "execute_result"
    }
   ],
   "source": [
    "prime(35)"
   ]
  },
  {
   "cell_type": "code",
   "execution_count": null,
   "id": "43e404fa",
   "metadata": {},
   "outputs": [
    {
     "name": "stdout",
     "output_type": "stream",
     "text": [
      "29 Prime\n"
     ]
    }
   ],
   "source": [
    "prime(29)"
   ]
  },
  {
   "cell_type": "code",
   "execution_count": null,
   "id": "0a01315b",
   "metadata": {},
   "outputs": [],
   "source": [
    "def temp():\n",
    "    x = 3\n",
    "    print(x)"
   ]
  },
  {
   "cell_type": "code",
   "execution_count": null,
   "id": "7a6988a7",
   "metadata": {},
   "outputs": [
    {
     "name": "stdout",
     "output_type": "stream",
     "text": [
      "3\n"
     ]
    }
   ],
   "source": [
    "temp()"
   ]
  },
  {
   "cell_type": "code",
   "execution_count": null,
   "id": "c65e8eda",
   "metadata": {},
   "outputs": [
    {
     "ename": "NameError",
     "evalue": "name 'x' is not defined",
     "output_type": "error",
     "traceback": [
      "\u001b[31m---------------------------------------------------------------------------\u001b[39m",
      "\u001b[31mNameError\u001b[39m                                 Traceback (most recent call last)",
      "\u001b[36mCell\u001b[39m\u001b[36m \u001b[39m\u001b[32mIn[7]\u001b[39m\u001b[32m, line 1\u001b[39m\n\u001b[32m----> \u001b[39m\u001b[32m1\u001b[39m \u001b[38;5;28mprint\u001b[39m(\u001b[43mx\u001b[49m)\n",
      "\u001b[31mNameError\u001b[39m: name 'x' is not defined"
     ]
    }
   ],
   "source": [
    "print(x)"
   ]
  },
  {
   "cell_type": "code",
   "execution_count": null,
   "id": "ec87ba2f",
   "metadata": {},
   "outputs": [
    {
     "name": "stdout",
     "output_type": "stream",
     "text": [
      "5\n"
     ]
    }
   ],
   "source": [
    "def temp1():\n",
    "    global y\n",
    "    y = 5\n",
    "\n",
    "temp1()\n",
    "print(y)"
   ]
  },
  {
   "cell_type": "code",
   "execution_count": null,
   "id": "a01eb0c3",
   "metadata": {},
   "outputs": [],
   "source": [
    "def even(n):\n",
    "    global even_list\n",
    "    \n",
    "    even_list = [i for i in range(1,n) if i%2 == 0]\n",
    "    print(even_list)"
   ]
  },
  {
   "cell_type": "code",
   "execution_count": null,
   "id": "5cf5ff3d",
   "metadata": {},
   "outputs": [
    {
     "name": "stdout",
     "output_type": "stream",
     "text": [
      "[2, 4, 6, 8]\n"
     ]
    }
   ],
   "source": [
    "even(10)"
   ]
  },
  {
   "cell_type": "code",
   "execution_count": null,
   "id": "5bc72382",
   "metadata": {},
   "outputs": [
    {
     "name": "stdout",
     "output_type": "stream",
     "text": [
      "[2, 4, 6, 8]\n"
     ]
    }
   ],
   "source": [
    "print(even_list)"
   ]
  },
  {
   "cell_type": "code",
   "execution_count": 14,
   "id": "6b10fc60",
   "metadata": {},
   "outputs": [
    {
     "name": "stdout",
     "output_type": "stream",
     "text": [
      "[1, 3, 5, 7, 9, 11, 13, 15, 17, 19]\n",
      "hi\n"
     ]
    }
   ],
   "source": [
    "def odd(n):\n",
    "    y = []\n",
    "    for i in range(1,n):\n",
    "        if i%2 != 0:\n",
    "            y.append(i)\n",
    "    return y\n",
    "\n",
    "print(odd(20))\n",
    "print(\"hi\")"
   ]
  },
  {
   "cell_type": "code",
   "execution_count": 2,
   "id": "6323e1bd",
   "metadata": {},
   "outputs": [
    {
     "name": "stdout",
     "output_type": "stream",
     "text": [
      "[1, 3, 5, 7, 9, 11, 13, 15, 17, 19, 21, 23, 25, 27, 29]\n"
     ]
    }
   ],
   "source": [
    "z = odd(30)\n",
    "z"
   ]
  },
  {
   "cell_type": "code",
   "execution_count": 4,
   "id": "e8c62fa7",
   "metadata": {},
   "outputs": [
    {
     "data": {
      "text/plain": [
       "[1, 3, 5, 7, 9, 11, 13, 15, 17, 19, 21, 23, 25, 27, 29]"
      ]
     },
     "execution_count": 4,
     "metadata": {},
     "output_type": "execute_result"
    }
   ],
   "source": [
    "z"
   ]
  },
  {
   "cell_type": "code",
   "execution_count": 44,
   "id": "92495368",
   "metadata": {},
   "outputs": [
    {
     "name": "stdout",
     "output_type": "stream",
     "text": [
      "<class 'dict'>\n"
     ]
    }
   ],
   "source": [
    "def temp(n):\n",
    "    return {\"n\" : n}\n",
    "\n",
    "# print(temp(5))\n",
    "print(type(temp(5)))"
   ]
  },
  {
   "cell_type": "code",
   "execution_count": 35,
   "id": "bdd80a5a",
   "metadata": {},
   "outputs": [
    {
     "name": "stdout",
     "output_type": "stream",
     "text": [
      "\n"
     ]
    }
   ],
   "source": [
    "print()"
   ]
  },
  {
   "cell_type": "code",
   "execution_count": 67,
   "id": "210655fe",
   "metadata": {},
   "outputs": [
    {
     "data": {
      "text/plain": [
       "'hellohi'"
      ]
     },
     "execution_count": 67,
     "metadata": {},
     "output_type": "execute_result"
    }
   ],
   "source": [
    "def add(x, y):\n",
    "    return x+y\n",
    "\n",
    "add(\"hello\", \"hi\")"
   ]
  },
  {
   "cell_type": "code",
   "execution_count": 69,
   "id": "7163a7f6",
   "metadata": {},
   "outputs": [
    {
     "data": {
      "text/plain": [
       "'Hideepthi'"
      ]
     },
     "execution_count": 69,
     "metadata": {},
     "output_type": "execute_result"
    }
   ],
   "source": [
    "def add(x: int, y: int) -> int:\n",
    "    return x + y\n",
    "\n",
    "add(\"Hi\", \"deepthi\")"
   ]
  },
  {
   "cell_type": "code",
   "execution_count": null,
   "id": "861b1e92",
   "metadata": {},
   "outputs": [
    {
     "name": "stdout",
     "output_type": "stream",
     "text": [
      "(23, 'sai', 'preetham', 75)\n",
      "('krishna', 50, 22)\n"
     ]
    }
   ],
   "source": [
    "def std(*args):\n",
    "    return args\n",
    "\n",
    "print(std(23, \"sai\", \"preetham\", 75))\n",
    "print(std(\"krishna\", 50, 22))"
   ]
  },
  {
   "cell_type": "code",
   "execution_count": null,
   "id": "fa0d6090",
   "metadata": {},
   "outputs": [
    {
     "name": "stdout",
     "output_type": "stream",
     "text": [
      "Kwargs as dict: {'first_name': 'Alice', 'age': 25, 'city': 'Hyderabad'}\n",
      "Kwargs as dict: {'age': 25, 'city': 'Bangalore', 'first_name': 'Bobby', 'last_name': 'hi'}\n"
     ]
    }
   ],
   "source": [
    "def print_info(**kwargs):\n",
    "    print(\"Kwargs as dict:\", kwargs)\n",
    "    # for key, value in kwargs.items():\n",
    "        # print(f\"{key} = {value}\")\n",
    "\n",
    "print_info(first_name=\"Alice\", age=25, city=\"Hyderabad\")\n",
    "print_info(age=25, city=\"Bangalore\", first_name=\"Bobby\", last_name=\"hi\")"
   ]
  },
  {
   "cell_type": "code",
   "execution_count": null,
   "id": "5a8a6839",
   "metadata": {},
   "outputs": [],
   "source": []
  }
 ],
 "metadata": {
  "kernelspec": {
   "display_name": "Python 3",
   "language": "python",
   "name": "python3"
  },
  "language_info": {
   "codemirror_mode": {
    "name": "ipython",
    "version": 3
   },
   "file_extension": ".py",
   "mimetype": "text/x-python",
   "name": "python",
   "nbconvert_exporter": "python",
   "pygments_lexer": "ipython3",
   "version": "3.13.5"
  }
 },
 "nbformat": 4,
 "nbformat_minor": 5
}
